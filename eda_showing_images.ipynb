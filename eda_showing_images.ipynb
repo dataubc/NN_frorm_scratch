{
 "cells": [
  {
   "cell_type": "markdown",
   "metadata": {},
   "source": [
    "### How to show an array using matplotlib"
   ]
  },
  {
   "cell_type": "code",
   "execution_count": 13,
   "metadata": {},
   "outputs": [],
   "source": [
    "import os, pickle\n",
    "import numpy as np\n",
    "import matplotlib.pyplot as plt"
   ]
  },
  {
   "cell_type": "code",
   "execution_count": 14,
   "metadata": {},
   "outputs": [],
   "source": [
    "def load_pickle(f):\n",
    "\n",
    "    return  pickle.load(f, encoding='latin1')\n",
    "\n",
    "def load_CIFAR_batch(filename):\n",
    "    \"\"\" load single batch of cifar \"\"\"\n",
    "    with open(filename, 'rb') as f:\n",
    "        datadict = load_pickle(f)\n",
    "        X = datadict['data']\n",
    "        Y = datadict['labels']\n",
    "        X = X.reshape(10000, 3, 32, 32).transpose(0,2,3,1).astype(\"float\")\n",
    "        Y = np.array(Y)\n",
    "        return X, Y\n",
    "\n",
    "def load_CIFAR10(ROOT):\n",
    "    \"\"\" load all of cifar \"\"\"\n",
    "    xs = []\n",
    "    ys = []\n",
    "    for b in range(1,6):\n",
    "        f = os.path.join(ROOT, 'data_batch_%d' % (b, ))\n",
    "        X, Y = load_CIFAR_batch(f)\n",
    "        xs.append(X)\n",
    "        ys.append(Y)\n",
    "    Xtr = np.concatenate(xs)\n",
    "    Ytr = np.concatenate(ys)\n",
    "    del X, Y\n",
    "    Xte, Yte = load_CIFAR_batch(os.path.join(ROOT, 'test_batch'))\n",
    "    return Xtr, Ytr, Xte, Yte"
   ]
  },
  {
   "cell_type": "code",
   "execution_count": 15,
   "metadata": {},
   "outputs": [],
   "source": [
    "Xtr, Ytr, Xte, Yte = load_CIFAR10('cifar-10-batches-py/')"
   ]
  },
  {
   "cell_type": "code",
   "execution_count": 24,
   "metadata": {},
   "outputs": [
    {
     "data": {
      "text/plain": [
       "(32, 32, 3)"
      ]
     },
     "execution_count": 24,
     "metadata": {},
     "output_type": "execute_result"
    }
   ],
   "source": [
    "Xtr[0].shape"
   ]
  },
  {
   "cell_type": "code",
   "execution_count": 47,
   "metadata": {},
   "outputs": [
    {
     "data": {
      "text/plain": [
       "array([[[ 59.,  62.,  63.],\n",
       "        [ 43.,  46.,  45.],\n",
       "        [ 50.,  48.,  43.],\n",
       "        ...,\n",
       "        [158., 132., 108.],\n",
       "        [152., 125., 102.],\n",
       "        [148., 124., 103.]],\n",
       "\n",
       "       [[ 16.,  20.,  20.],\n",
       "        [  0.,   0.,   0.],\n",
       "        [ 18.,   8.,   0.],\n",
       "        ...,\n",
       "        [123.,  88.,  55.],\n",
       "        [119.,  83.,  50.],\n",
       "        [122.,  87.,  57.]],\n",
       "\n",
       "       [[ 25.,  24.,  21.],\n",
       "        [ 16.,   7.,   0.],\n",
       "        [ 49.,  27.,   8.],\n",
       "        ...,\n",
       "        [118.,  84.,  50.],\n",
       "        [120.,  84.,  50.],\n",
       "        [109.,  73.,  42.]],\n",
       "\n",
       "       ...,\n",
       "\n",
       "       [[208., 170.,  96.],\n",
       "        [201., 153.,  34.],\n",
       "        [198., 161.,  26.],\n",
       "        ...,\n",
       "        [160., 133.,  70.],\n",
       "        [ 56.,  31.,   7.],\n",
       "        [ 53.,  34.,  20.]],\n",
       "\n",
       "       [[180., 139.,  96.],\n",
       "        [173., 123.,  42.],\n",
       "        [186., 144.,  30.],\n",
       "        ...,\n",
       "        [184., 148.,  94.],\n",
       "        [ 97.,  62.,  34.],\n",
       "        [ 83.,  53.,  34.]],\n",
       "\n",
       "       [[177., 144., 116.],\n",
       "        [168., 129.,  94.],\n",
       "        [179., 142.,  87.],\n",
       "        ...,\n",
       "        [216., 184., 140.],\n",
       "        [151., 118.,  84.],\n",
       "        [123.,  92.,  72.]]])"
      ]
     },
     "execution_count": 47,
     "metadata": {},
     "output_type": "execute_result"
    }
   ],
   "source": [
    "Xtr[0]"
   ]
  },
  {
   "cell_type": "code",
   "execution_count": 48,
   "metadata": {},
   "outputs": [
    {
     "data": {
      "image/png": "[encoded data removed]",
      "text/plain": [
       "<Figure size 432x288 with 1 Axes>"
      ]
     },
     "metadata": {
      "needs_background": "light"
     },
     "output_type": "display_data"
    }
   ],
   "source": [
    "plt.imshow((Xtr[2]*255).astype(np.uint8))\n",
    "plt.show()"
   ]
  },
  {
   "cell_type": "code",
   "execution_count": 51,
   "metadata": {},
   "outputs": [
    {
     "data": {
      "text/plain": [
       "9"
      ]
     },
     "execution_count": 51,
     "metadata": {},
     "output_type": "execute_result"
    }
   ],
   "source": [
    "Ytr[2]"
   ]
  }
 ],
 "metadata": {
  "kernelspec": {
   "display_name": "Python 3",
   "language": "python",
   "name": "python3"
  },
  "language_info": {
   "codemirror_mode": {
    "name": "ipython",
    "version": 3
   },
   "file_extension": ".py",
   "mimetype": "text/x-python",
   "name": "python",
   "nbconvert_exporter": "python",
   "pygments_lexer": "ipython3",
   "version": "3.8.3"
  }
 },
 "nbformat": 4,
 "nbformat_minor": 4
}

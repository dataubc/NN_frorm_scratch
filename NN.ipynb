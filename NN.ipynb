{
 "cells": [
  {
   "cell_type": "markdown",
   "metadata": {},
   "source": [
    "### Building Intuition about NN"
   ]
  },
  {
   "cell_type": "code",
   "execution_count": 775,
   "metadata": {},
   "outputs": [],
   "source": [
    "import numpy as np"
   ]
  },
  {
   "cell_type": "code",
   "execution_count": 776,
   "metadata": {},
   "outputs": [],
   "source": [
    "# The best approach to get an intuision for building NN is to start from scratch, and I will start with matrix mutiplication, as it's the foundational knowledge"
   ]
  },
  {
   "cell_type": "markdown",
   "metadata": {},
   "source": [
    "let's start with equations, after all linear algebra was built to solve equations\n",
    "\n",
    "X.w = y\n",
    "\n"
   ]
  },
  {
   "cell_type": "code",
   "execution_count": 777,
   "metadata": {},
   "outputs": [],
   "source": [
    "# what does this eqaution tells us, that the dot product of feature matrix X and weight vector w will get us y. But the shape matters for matrix multiplication as we will see\n"
   ]
  },
  {
   "cell_type": "code",
   "execution_count": 778,
   "metadata": {},
   "outputs": [],
   "source": [
    "# let's creat our feature matrix, we will have a data with only one example and 5 features."
   ]
  },
  {
   "cell_type": "code",
   "execution_count": 779,
   "metadata": {},
   "outputs": [
    {
     "data": {
      "text/plain": [
       "array([[10, 12,  5,  3, -5]])"
      ]
     },
     "execution_count": 779,
     "metadata": {},
     "output_type": "execute_result"
    }
   ],
   "source": [
    "X = np.array([10,12,5,3,-5]).reshape(1,5)\n",
    "X\n"
   ]
  },
  {
   "cell_type": "markdown",
   "metadata": {},
   "source": [
    "we have come to know that there is a dependent variable y, that is linearly dependent on those features. That means if we take the right mix of theres features in X we will get y.\n",
    " of course the million dollar question is that what is the right mix. Let's say we the right mix of feature X1 is w1 and from featureX2 is w2 etc. Now, we will get the following equation\n",
    "\n",
    "X1.w1 + X2.w2 + ...... Xn.wn = y"
   ]
  },
  {
   "cell_type": "markdown",
   "metadata": {},
   "source": [
    "we can write the above equation in a compact form in the following form:\n",
    "\n",
    "X.w = y"
   ]
  },
  {
   "cell_type": "markdown",
   "metadata": {},
   "source": [
    "Now, to write this equation in the matrix form, we need to know the rules of matrix multiplication\n",
    "\n"
   ]
  },
  {
   "cell_type": "markdown",
   "metadata": {},
   "source": [
    "- the rows of w has to be the same as the columns of X\n",
    "- so if X shape is 1,5 then w needs to be 5x, so we can have any numbe of columns but the rows have to be 5. The resuled matrix will take the shape of (rows of X , columns of w)\n",
    "- why is this important, well, since the number of rows in X is the numbe of example, observations in the data does not affect. We can have the same shape of w for any number of observations. \n",
    "- On the other hands, w is affected by the number of features, of course becuase each w is connected with aparticualr feature.\n",
    "- Now when it comes the resulted y, of coursee we need one y for each observation, and therefore the numbe of rows in y is the same as number of observation. Now let's say we don't have one output\n",
    "- I mean we have y1 and y2, we will face this in multi-classificaiton and also in NN when w have a layer with more than one unit. Here th columns of y will increase, and guess who will increase the numbe of columns to accomodate this, yes that's right. That's the NN"
   ]
  },
  {
   "cell_type": "code",
   "execution_count": 780,
   "metadata": {},
   "outputs": [],
   "source": [
    "# ok, we need to learn about the dot product, so we can peformr X.w"
   ]
  },
  {
   "cell_type": "code",
   "execution_count": 781,
   "metadata": {},
   "outputs": [],
   "source": [
    "# X is 5 * 1 and the output is 2 *1 so we need the w to be 2*5\n",
    "\n",
    "w = np.array([\n",
    "    [ 0.1, 0.1, 0.1,0.1,0.1],\n",
    "    [0.1,0.1,0.1,0.1,0.1]\n",
    "\n",
    "])"
   ]
  },
  {
   "cell_type": "code",
   "execution_count": 782,
   "metadata": {},
   "outputs": [],
   "source": [
    "w = w.reshape(5,2)"
   ]
  },
  {
   "cell_type": "code",
   "execution_count": 783,
   "metadata": {},
   "outputs": [
    {
     "data": {
      "text/plain": [
       "array([[0.1, 0.1],\n",
       "       [0.1, 0.1],\n",
       "       [0.1, 0.1],\n",
       "       [0.1, 0.1],\n",
       "       [0.1, 0.1]])"
      ]
     },
     "execution_count": 783,
     "metadata": {},
     "output_type": "execute_result"
    }
   ],
   "source": [
    "w"
   ]
  },
  {
   "cell_type": "code",
   "execution_count": 784,
   "metadata": {},
   "outputs": [
    {
     "data": {
      "text/plain": [
       "array([[2.5, 2.5]])"
      ]
     },
     "execution_count": 784,
     "metadata": {},
     "output_type": "execute_result"
    }
   ],
   "source": [
    "X@w"
   ]
  },
  {
   "cell_type": "code",
   "execution_count": 785,
   "metadata": {},
   "outputs": [],
   "source": [
    "# input layer, 5 nodes        layer 1, 2 nodes\n",
    "\n",
    "#\n",
    "#                    #\n",
    "#\n",
    "#                    #\n",
    "#"
   ]
  },
  {
   "cell_type": "code",
   "execution_count": 786,
   "metadata": {},
   "outputs": [],
   "source": [
    "# let's make up a simple example to see if the NN can actually learn from examples\n",
    "\n",
    "\n",
    "# y X1 + X2 + X3 + X4 + X5\n",
    "\n",
    "# examples\n",
    "X = np.array([[1,1,1,1,1],\n",
    "             [2,1,2,2,2],\n",
    "            [3,1,3,3,3],\n",
    "            [3,2,3,3,3],\n",
    "            [3,3,3,3,3],\n",
    "            [3,4,3,3,3],\n",
    "            [3,5,3,3,3],\n",
    "            [3,6,3,3,3],\n",
    "            [3,7,3,3,3],\n",
    "            [3,8,3,3,3]\n",
    "             ])\n"
   ]
  },
  {
   "cell_type": "code",
   "execution_count": 787,
   "metadata": {},
   "outputs": [
    {
     "data": {
      "text/plain": [
       "(10, 5)"
      ]
     },
     "execution_count": 787,
     "metadata": {},
     "output_type": "execute_result"
    }
   ],
   "source": [
    "X.shape"
   ]
  },
  {
   "cell_type": "code",
   "execution_count": 788,
   "metadata": {},
   "outputs": [
    {
     "data": {
      "text/plain": [
       "(10,)"
      ]
     },
     "execution_count": 788,
     "metadata": {},
     "output_type": "execute_result"
    }
   ],
   "source": [
    "y = np.array([5,9,13,14,15,16,17,18,19,20])\n",
    "y.shape"
   ]
  },
  {
   "cell_type": "markdown",
   "metadata": {},
   "source": [
    "### Train function"
   ]
  },
  {
   "cell_type": "code",
   "execution_count": 789,
   "metadata": {},
   "outputs": [],
   "source": [
    "class linear_model:\n",
    "    def __init__(self):\n",
    "        pass\n",
    "\n",
    "    def train(self,X,y):\n",
    "        # create the weight vectorr\n",
    "        w = np.ones([X.shape[1],1])\n",
    "        losses = []\n",
    "        y_predicted = np.zeros(len(X))\n",
    "        for i in range(len(X)):\n",
    "            y_predicted[i] = X[i]@w\n",
    "            loss = y[i] - y_predicted[i]\n",
    "            \n",
    "            print('the true value = ',y[i])\n",
    "            print('the predicted value = ',y_predicted[i])\n",
    "            losses.append(loss)\n",
    "        total_loss = np.sum(losses)\n",
    "        print('the total loss =', total_loss )\n",
    "        "
   ]
  },
  {
   "cell_type": "code",
   "execution_count": 790,
   "metadata": {},
   "outputs": [],
   "source": [
    "lm = linear_model()"
   ]
  },
  {
   "cell_type": "code",
   "execution_count": 791,
   "metadata": {},
   "outputs": [
    {
     "name": "stdout",
     "output_type": "stream",
     "text": [
      "the true value =  5\n",
      "the predicted value =  5.0\n",
      "the true value =  9\n",
      "the predicted value =  9.0\n",
      "the true value =  13\n",
      "the predicted value =  13.0\n",
      "the true value =  14\n",
      "the predicted value =  14.0\n",
      "the true value =  15\n",
      "the predicted value =  15.0\n",
      "the true value =  16\n",
      "the predicted value =  16.0\n",
      "the true value =  17\n",
      "the predicted value =  17.0\n",
      "the true value =  18\n",
      "the predicted value =  18.0\n",
      "the true value =  19\n",
      "the predicted value =  19.0\n",
      "the true value =  20\n",
      "the predicted value =  20.0\n",
      "the total loss = 0.0\n"
     ]
    }
   ],
   "source": [
    "lm.train(X,y)"
   ]
  },
  {
   "cell_type": "code",
   "execution_count": 792,
   "metadata": {},
   "outputs": [
    {
     "data": {
      "text/plain": [
       "array([1, 1, 1, 1, 1])"
      ]
     },
     "execution_count": 792,
     "metadata": {},
     "output_type": "execute_result"
    }
   ],
   "source": [
    "X[0]"
   ]
  },
  {
   "cell_type": "code",
   "execution_count": 793,
   "metadata": {},
   "outputs": [],
   "source": [
    "# note that we used the correct w for this case and hence we have loss of zero, let's change ws"
   ]
  },
  {
   "cell_type": "code",
   "execution_count": 794,
   "metadata": {},
   "outputs": [],
   "source": [
    "class linear_model:\n",
    "    def __init__(self):\n",
    "        pass\n",
    "\n",
    "    def train(self,X,y):\n",
    "        w = np.ones([X.shape[1],1])\n",
    "        w[0] = 0.2\n",
    "        losses = []\n",
    "        y_predicted = np.zeros(len(X))\n",
    "        for i in range(len(X)):\n",
    "            y_predicted[i] = X[i]@w\n",
    "            loss_at_w = y[i] - y_predicted[i]\n",
    "            loss_at_w_plus_h = y[i] - y_predicted[i]\n",
    "            \n",
    "            print('the true value = ',y[i])\n",
    "            print('the predicted value = ',y_predicted[i])\n",
    "            losses.append(loss_at_w )\n",
    "        total_loss = np.sum(losses)\n",
    "        print('the total loss =', total_loss)\n",
    "              \n",
    "        \n",
    "        "
   ]
  },
  {
   "cell_type": "code",
   "execution_count": 795,
   "metadata": {},
   "outputs": [],
   "source": [
    "lm = linear_model()"
   ]
  },
  {
   "cell_type": "code",
   "execution_count": 796,
   "metadata": {},
   "outputs": [
    {
     "name": "stdout",
     "output_type": "stream",
     "text": [
      "the true value =  5\n",
      "the predicted value =  4.2\n",
      "the true value =  9\n",
      "the predicted value =  7.4\n",
      "the true value =  13\n",
      "the predicted value =  10.6\n",
      "the true value =  14\n",
      "the predicted value =  11.6\n",
      "the true value =  15\n",
      "the predicted value =  12.6\n",
      "the true value =  16\n",
      "the predicted value =  13.6\n",
      "the true value =  17\n",
      "the predicted value =  14.6\n",
      "the true value =  18\n",
      "the predicted value =  15.6\n",
      "the true value =  19\n",
      "the predicted value =  16.6\n",
      "the true value =  20\n",
      "the predicted value =  17.6\n",
      "the total loss = 21.599999999999998\n"
     ]
    }
   ],
   "source": [
    "lm.train(X,y)"
   ]
  },
  {
   "cell_type": "code",
   "execution_count": 797,
   "metadata": {},
   "outputs": [],
   "source": [
    "# as you can see here, the loss is no longer 0."
   ]
  },
  {
   "cell_type": "code",
   "execution_count": 798,
   "metadata": {},
   "outputs": [],
   "source": [
    "# it is obvious that we need to keep tweeking ws until we get the minium loss"
   ]
  },
  {
   "cell_type": "markdown",
   "metadata": {},
   "source": [
    "### now comes the calculs part, first we know that we can write the loss as a function of ws\n",
    "\n",
    "- L = f(w)\n",
    "- dl/dw = f'(w) = (f(w+h) - f(w))/h\n",
    "\n",
    "new_w = old+w - step_size* dl/dw"
   ]
  },
  {
   "cell_type": "code",
   "execution_count": 799,
   "metadata": {},
   "outputs": [],
   "source": [
    " #ok, I need to update w which is a vector of shape (x[1],1)\n",
    "        # any change in w, for example if we change w[0], the vector y will change completely, not only y[0] as we dicussed before.\n",
    "        # now as we said we want to change w by tweeking it a little bit, by adding dw, i.e adding a vector that will be similar in length to w\n",
    "              \n",
    "        # for example :\n",
    "              # w = [1               df/dw = [0.10                                                        [1.2\n",
    "              #      2                     0.04            > new w will be old_w _ step_size*dw.     >. 2.08         note that here we assumed step*size to be 2\n",
    "               #     3]                    0.03]                                                         2.06\n",
    "        \n",
    "        # let's calculate dl/dw\n",
    "        # but this will involve calculating the loss twice, one at and then at w + h\n",
    "        # let's make a function of calculating the loss\n",
    "        "
   ]
  },
  {
   "cell_type": "markdown",
   "metadata": {},
   "source": [
    "## Using a simple model to solve the equation 3X = 6"
   ]
  },
  {
   "cell_type": "code",
   "execution_count": 800,
   "metadata": {},
   "outputs": [],
   "source": [
    "class linear_model:\n",
    "    def __init__(self):\n",
    "        pass\n",
    "    \n",
    "    def calc_loss(self,X,y,w):\n",
    "       \n",
    "        losses = []\n",
    "        y_predicted = np.zeros(len(X))\n",
    "       \n",
    "        \n",
    "        y_predicted = X@w\n",
    "        loss= y - y_predicted\n",
    "            \n",
    "        print('the true value = ',y)\n",
    "        print('the predicted value = ',y_predicted)\n",
    "        losses.append(loss)\n",
    "        total_loss = np.sum(losses)\n",
    "        print('the total loss =', total_loss )\n",
    "        return total_loss\n",
    "      \n",
    "\n",
    "\n",
    "    def train(self,X,y):\n",
    "        w = np.ones([X.shape[1],1])\n",
    "        w[0] = 5\n",
    "        \n",
    "        for i in range(len(w)):\n",
    "            loss_w = self.calc_loss(X,y,w)\n",
    "            \n",
    "            # the case when the loss is positive, in this case we need to decrease w\n",
    "            \n",
    "            # we will choose the margin that we will accept as 0.5\n",
    "            \n",
    "            if abs(loss_w)> 0:\n",
    "                # since the equation is 3x =6 , then dw/dl = 3\n",
    "                dldw = 3\n",
    "            elif abs(loss_w)< 0:\n",
    "                dldw = -3\n",
    "                # we will make the the learning rate is 0.5\n",
    "            lr =1\n",
    "            w[0]= w[0] -lr*dldw\n",
    "            loss_w_dash= self.calc_loss(X,y,w)\n",
    "            print(loss_w_dash - loss_w)\n",
    "            loss_w = loss_w_dash\n",
    "\n",
    "            \n",
    "            self.w = w\n",
    "            print(self.w)\n",
    "        \n",
    "    def predict(self,X_new):\n",
    "        predicted_y = X_new@self.w\n",
    "        \n",
    "        return predicted_y"
   ]
  },
  {
   "cell_type": "code",
   "execution_count": 801,
   "metadata": {},
   "outputs": [],
   "source": [
    "X = np.array([3]).reshape(1,1)\n",
    "y = np.array([6]).reshape(1,1)"
   ]
  },
  {
   "cell_type": "code",
   "execution_count": 802,
   "metadata": {},
   "outputs": [
    {
     "data": {
      "text/plain": [
       "(1, 1)"
      ]
     },
     "execution_count": 802,
     "metadata": {},
     "output_type": "execute_result"
    }
   ],
   "source": [
    "X.shape"
   ]
  },
  {
   "cell_type": "code",
   "execution_count": 803,
   "metadata": {},
   "outputs": [],
   "source": [
    "w = np.ones([1,1])"
   ]
  },
  {
   "cell_type": "code",
   "execution_count": 804,
   "metadata": {},
   "outputs": [
    {
     "data": {
      "text/plain": [
       "array([[3.]])"
      ]
     },
     "execution_count": 804,
     "metadata": {},
     "output_type": "execute_result"
    }
   ],
   "source": [
    "X@w"
   ]
  },
  {
   "cell_type": "code",
   "execution_count": 805,
   "metadata": {},
   "outputs": [],
   "source": [
    "lm = linear_model()"
   ]
  },
  {
   "cell_type": "code",
   "execution_count": 806,
   "metadata": {},
   "outputs": [
    {
     "name": "stdout",
     "output_type": "stream",
     "text": [
      "the true value =  [[6]]\n",
      "the predicted value =  [[15.]]\n",
      "the total loss = -9.0\n",
      "the true value =  [[6]]\n",
      "the predicted value =  [[6.]]\n",
      "the total loss = 0.0\n",
      "9.0\n",
      "[[2.]]\n"
     ]
    }
   ],
   "source": [
    "lm.train(X,y)"
   ]
  },
  {
   "cell_type": "code",
   "execution_count": 807,
   "metadata": {},
   "outputs": [],
   "source": [
    "# so essentially the equation we have is\n",
    "\n",
    "# 2*X, this is our model, because this is basically what got us 6\n",
    "# let's see what if we try a new X, say for example 4, we expect the new y to be 8"
   ]
  },
  {
   "cell_type": "code",
   "execution_count": 808,
   "metadata": {},
   "outputs": [],
   "source": [
    "X_new = np.array([4])"
   ]
  },
  {
   "cell_type": "code",
   "execution_count": 809,
   "metadata": {},
   "outputs": [],
   "source": [
    "y = lm.predict(X_new)"
   ]
  },
  {
   "cell_type": "code",
   "execution_count": 810,
   "metadata": {},
   "outputs": [
    {
     "data": {
      "text/plain": [
       "array([8.])"
      ]
     },
     "execution_count": 810,
     "metadata": {},
     "output_type": "execute_result"
    }
   ],
   "source": [
    "y"
   ]
  },
  {
   "cell_type": "markdown",
   "metadata": {},
   "source": [
    "### let's now try equations for 2 variables\n",
    "\n",
    "\n",
    "- X1 = 2\n",
    "- X2 = 3\n",
    "\n",
    "- 2X1 + X2 = 7\n",
    "- 3X1 - X2 = 3\n",
    "\n",
    "> this is the equivelant of having 2 examples\n"
   ]
  },
  {
   "cell_type": "code",
   "execution_count": 811,
   "metadata": {},
   "outputs": [
    {
     "data": {
      "text/plain": [
       "array([[ 2,  1],\n",
       "       [ 3, -1]])"
      ]
     },
     "execution_count": 811,
     "metadata": {},
     "output_type": "execute_result"
    }
   ],
   "source": [
    "X = np.array([[2,1],\n",
    "             [3,-1]])\n",
    "X"
   ]
  },
  {
   "cell_type": "code",
   "execution_count": 812,
   "metadata": {},
   "outputs": [
    {
     "data": {
      "text/plain": [
       "array([[7],\n",
       "       [3]])"
      ]
     },
     "execution_count": 812,
     "metadata": {},
     "output_type": "execute_result"
    }
   ],
   "source": [
    "y = np.array([7,3]).reshape(2,1)\n",
    "y"
   ]
  },
  {
   "cell_type": "code",
   "execution_count": 813,
   "metadata": {},
   "outputs": [],
   "source": [
    "class linear_model:\n",
    "    def __init__(self):\n",
    "        pass\n",
    "    \n",
    "    def calc_loss(self,X,y,w):\n",
    "       \n",
    "        losses = []\n",
    "        y_predicted = np.zeros(len(X))\n",
    "       \n",
    "        \n",
    "        y_predicted = X@w\n",
    "        loss= y - y_predicted\n",
    "\n",
    "        print('the true value = ',y)\n",
    "        print('the predicted value = ',y_predicted)\n",
    "        losses.append(loss)\n",
    "        total_loss = np.sum(losses)\n",
    "        print('the total loss =', total_loss )\n",
    "        return total_loss\n",
    "      \n",
    "\n",
    "\n",
    "    def train(self,X,y):\n",
    "        w = np.ones([X.shape[1],1])\n",
    "        w[0] = 5\n",
    "        w[1] = 3\n",
    "        \n",
    "        loss_w = self.calc_loss(X,y,w)\n",
    "        while abs(loss_w) > 1:\n",
    "            for i in range(len(w)):\n",
    "                loss_w = self.calc_loss(X,y,w)\n",
    "\n",
    "                # the case when the loss is positive, in this case we need to decrease w\n",
    "\n",
    "                # we will choose the margin that we will accept as 0.5\n",
    "\n",
    "                if abs(loss_w)> 0:\n",
    "                    # since the equation is 3x =6 , then dw/dl = 3\n",
    "                    dldw = 1\n",
    "                elif abs(loss_w)< 0:\n",
    "                    dldw = -3\n",
    "                    # we will make the the learning rate is 0.5\n",
    "                lr =1\n",
    "                w[i]= w[i] -lr*dldw\n",
    "                loss_w_dash= self.calc_loss(X,y,w)\n",
    "                print(loss_w_dash - loss_w)\n",
    "                loss_w = loss_w_dash\n",
    "            \n",
    "            if abs(loss_w) < 5:\n",
    "                \n",
    "                self.w = w\n",
    "                \n",
    "                return self.w\n",
    "                print('converged to solution')\n",
    "                \n",
    "            else:\n",
    "                print('not converged')\n",
    "            \n",
    "            \n",
    "\n",
    "    def predict(self,X_new):\n",
    "        predicted_y = X_new@self.w\n",
    "        \n",
    "        return predicted_y"
   ]
  },
  {
   "cell_type": "code",
   "execution_count": 814,
   "metadata": {},
   "outputs": [],
   "source": [
    "lm = linear_model()"
   ]
  },
  {
   "cell_type": "code",
   "execution_count": 815,
   "metadata": {},
   "outputs": [
    {
     "name": "stdout",
     "output_type": "stream",
     "text": [
      "the true value =  [[7]\n",
      " [3]]\n",
      "the predicted value =  [[13.]\n",
      " [12.]]\n",
      "the total loss = -15.0\n",
      "the true value =  [[7]\n",
      " [3]]\n",
      "the predicted value =  [[13.]\n",
      " [12.]]\n",
      "the total loss = -15.0\n",
      "the true value =  [[7]\n",
      " [3]]\n",
      "the predicted value =  [[11.]\n",
      " [ 9.]]\n",
      "the total loss = -10.0\n",
      "5.0\n",
      "the true value =  [[7]\n",
      " [3]]\n",
      "the predicted value =  [[11.]\n",
      " [ 9.]]\n",
      "the total loss = -10.0\n",
      "the true value =  [[7]\n",
      " [3]]\n",
      "the predicted value =  [[10.]\n",
      " [10.]]\n",
      "the total loss = -10.0\n",
      "0.0\n",
      "not converged\n",
      "the true value =  [[7]\n",
      " [3]]\n",
      "the predicted value =  [[10.]\n",
      " [10.]]\n",
      "the total loss = -10.0\n",
      "the true value =  [[7]\n",
      " [3]]\n",
      "the predicted value =  [[8.]\n",
      " [7.]]\n",
      "the total loss = -5.0\n",
      "5.0\n",
      "the true value =  [[7]\n",
      " [3]]\n",
      "the predicted value =  [[8.]\n",
      " [7.]]\n",
      "the total loss = -5.0\n",
      "the true value =  [[7]\n",
      " [3]]\n",
      "the predicted value =  [[7.]\n",
      " [8.]]\n",
      "the total loss = -5.0\n",
      "0.0\n",
      "not converged\n",
      "the true value =  [[7]\n",
      " [3]]\n",
      "the predicted value =  [[7.]\n",
      " [8.]]\n",
      "the total loss = -5.0\n",
      "the true value =  [[7]\n",
      " [3]]\n",
      "the predicted value =  [[5.]\n",
      " [5.]]\n",
      "the total loss = 0.0\n",
      "5.0\n",
      "the true value =  [[7]\n",
      " [3]]\n",
      "the predicted value =  [[5.]\n",
      " [5.]]\n",
      "the total loss = 0.0\n",
      "the true value =  [[7]\n",
      " [3]]\n",
      "the predicted value =  [[4.]\n",
      " [6.]]\n",
      "the total loss = 0.0\n",
      "0.0\n"
     ]
    },
    {
     "data": {
      "text/plain": [
       "array([[2.],\n",
       "       [0.]])"
      ]
     },
     "execution_count": 815,
     "metadata": {},
     "output_type": "execute_result"
    }
   ],
   "source": [
    "lm.train(X,y)"
   ]
  },
  {
   "cell_type": "code",
   "execution_count": 816,
   "metadata": {},
   "outputs": [],
   "source": [
    "# even though this is not the correct value, but the tota loss is actually zero. I need to to solve this proble,"
   ]
  },
  {
   "cell_type": "code",
   "execution_count": 817,
   "metadata": {},
   "outputs": [],
   "source": [
    "#n the issue of losses cancelling themselves are a direct result of not taking the sum of the absolute value , which is L1"
   ]
  },
  {
   "cell_type": "code",
   "execution_count": 818,
   "metadata": {},
   "outputs": [],
   "source": [
    "# L1 loss"
   ]
  },
  {
   "cell_type": "code",
   "execution_count": 819,
   "metadata": {},
   "outputs": [],
   "source": [
    "class linear_model:\n",
    "    def __init__(self):\n",
    "        pass\n",
    "    \n",
    "  \n",
    "        \n",
    "        return predicted_y"
   ]
  },
  {
   "cell_type": "code",
   "execution_count": 820,
   "metadata": {},
   "outputs": [],
   "source": [
    "lm = linear_model()"
   ]
  },
  {
   "cell_type": "code",
   "execution_count": 821,
   "metadata": {},
   "outputs": [
    {
     "name": "stdout",
     "output_type": "stream",
     "text": [
      "[[2.50000000e+00]\n",
      " [1.77635684e-13]]\n",
      "step 0\n",
      "loss is now 7.512500000000001\n",
      "step 1\n",
      "loss is now 6.887499999999992\n",
      "step 2\n",
      "loss is now 6.262499999999983\n",
      "step 3\n",
      "loss is now 5.637499999999974\n",
      "step 4\n",
      "loss is now 5.0124999999999655\n",
      "step 5\n",
      "loss is now 4.387499999999957\n",
      "step 6\n",
      "loss is now 3.7624999999999473\n",
      "step 7\n",
      "loss is now 3.1374999999999384\n",
      "step 8\n",
      "loss is now 2.5124999999999296\n",
      "step 9\n",
      "loss is now 1.8874999999999207\n",
      "step 10\n",
      "loss is now 1.2624999999999114\n",
      "step 11\n",
      "loss is now 0.637499999999902\n",
      "step 12\n",
      "loss is now 0.012499999999893152\n",
      "final w =  [[2.005]\n",
      " [3.005]]\n"
     ]
    },
    {
     "data": {
      "text/plain": [
       "array([[2.005],\n",
       "       [3.005]])"
      ]
     },
     "execution_count": 821,
     "metadata": {},
     "output_type": "execute_result"
    }
   ],
   "source": [
    "lm.train(X,y)\n"
   ]
  },
  {
   "cell_type": "markdown",
   "metadata": {},
   "source": [
    "# wa hoooooooooo :)\n",
    "\n",
    "- The breakthrough was the fact hat I have to calculate dwdl once\n",
    "- Also making the condition of stopping not zero but at 0.05\n",
    "- And playing with the learning rate\n",
    "- Of course also th earlier realization that I need to calucalte L1 and not just sum th loss since they were cancelling each other."
   ]
  },
  {
   "cell_type": "code",
   "execution_count": 822,
   "metadata": {},
   "outputs": [],
   "source": [
    "# Batch vs stochastic"
   ]
  },
  {
   "cell_type": "markdown",
   "metadata": {},
   "source": [
    "while I was sleeping yesterday I was thinking about the calculation of gradients. More specifically I was thinking about how it is possible to calculate the gradient using one example, using some examples or all examples,or using all examples. The only difference will be in the way the loss is calculated. If only one example is included then we cacluate one loss, if n the the loss vectors, will have n rows each is associated with a loss, of course since we need only one number we will just take the mean of all losses. Note that we are calculatin the mean squared error using this methodology MAE. If we use L2. then we will be calculting the MSE."
   ]
  },
  {
   "cell_type": "code",
   "execution_count": 823,
   "metadata": {},
   "outputs": [],
   "source": [
    "# Using MSE"
   ]
  },
  {
   "cell_type": "code",
   "execution_count": 950,
   "metadata": {},
   "outputs": [],
   "source": [
    "class linear_model:\n",
    "    def __init__(self):\n",
    "        pass\n",
    "    \n",
    "    def calc_loss(self,X,y,w, loss_measure = 'MSE'):\n",
    "        \n",
    "        \n",
    "        \"\"\"\n",
    "        Calculating the loss or the deviation of the results we got from the model compared with the real values. The first step is to calculate the X@w which represents the results we got from\n",
    "        the model. The second step is to evaulate the loss which can be done through a loss function that we define. for example here we define two ways to caculate the loss either using MAE, in\n",
    "        which we first calculate the absolute difference between each predicted and true value and then we calucalte the mean. or using the MSW, in which we calculate the abolute difference between\n",
    "        true and preidcted value, square it and then find the average. The loss we then be returned.\n",
    "        \n",
    "        \"\"\"\n",
    "        \n",
    "       \n",
    "        losses = []\n",
    "        y_predicted = np.zeros(len(X))\n",
    "        y_predicted = X@w\n",
    "        \n",
    "        if loss_measure == 'MSE':\n",
    "            loss = (y - y_predicted)**2\n",
    "        elif loss_measure == 'MAE':\n",
    "            loss= abs(y - y_predicted)\n",
    "\n",
    "        #print('the true value = ',y)\n",
    "        #print('the predicted value = ',y_predicted)\n",
    "        losses.append(loss)\n",
    "        total_loss = np.mean(losses)\n",
    "        #print('the total loss =', total_loss )\n",
    "        return total_loss\n",
    "      \n",
    "\n",
    "\n",
    "    def train(self,X,y,loss_measure = 'MAE'):\n",
    "        #w = np.ones([X.shape[1],1])\n",
    "        np.random.seed(500)\n",
    "        w = np.random.rand(X.shape[1],1)\n",
    "        dldw = np.ones([X.shape[1],1])\n",
    "        dldw[0] = 0.02\n",
    "        dldw[1] = 0.02\n",
    "        w[0] = 3\n",
    "        w[1] = 3\n",
    "        print(w)\n",
    "        \n",
    "    # calculate the derivitives, this happen once, that was my mistake, I was including it in the for loop.\n",
    "\n",
    "        for i in range(len(w)):\n",
    "\n",
    "            # f(w)\n",
    "\n",
    "            loss_w = self.calc_loss(X,y,w,loss_measure = loss_measure)\n",
    "            # we will choose the margin that we will accept as 0.5\n",
    "\n",
    "            # f(w+h)\n",
    "\n",
    "            h = 0.005\n",
    "            w[i] = w[i] + h\n",
    "\n",
    "            # dldw = f(w+h) - f(w)/h\n",
    "            dldw[i] = (self.calc_loss(X,y,w,loss_measure = loss_measure) - loss_w)/h\n",
    "\n",
    "\n",
    "        print(dldw)   \n",
    "        \n",
    "        # updating the weight\n",
    "        \n",
    "        lr =0.005\n",
    "        \n",
    "        for i in range(20):\n",
    "            print('step',i)\n",
    "            loss_w = self.calc_loss(X,y,w)\n",
    "            print('loss is now',loss_w)\n",
    "            if loss_w <= 0.08 :\n",
    "                self.w = w\n",
    "                print('final w = ',self.w)\n",
    "                return self.w\n",
    "            elif loss_w > 0.08 :\n",
    "                w = w - lr*dldw\n",
    "#         for i in range(10):\n",
    "#             counter = counter + 1\n",
    "            \n",
    "#             print('loss = ',loss_w_dash)\n",
    "#             #print(loss_w_dash - loss_w)\n",
    "#             loss_w = loss_w_dash\n",
    "\n",
    "#             \n",
    "\n",
    "#                 return self.w\n",
    "                \n",
    "                \n",
    "\n",
    "    def predict(self,X_new):\n",
    "        predicted_y = X_new@self.w\n",
    "        \n",
    "        return predicted_y"
   ]
  },
  {
   "cell_type": "code",
   "execution_count": 951,
   "metadata": {},
   "outputs": [
    {
     "name": "stdout",
     "output_type": "stream",
     "text": [
      "[[3.]\n",
      " [3.]]\n",
      "[[13.0325]\n",
      " [-1.    ]]\n",
      "step 0\n",
      "loss is now 6.560162500000003\n",
      "step 1\n",
      "loss is now 5.7321160466406065\n",
      "step 2\n",
      "loss is now 4.9599711865624725\n",
      "step 3\n",
      "loss is now 4.243727919765584\n",
      "step 4\n",
      "loss is now 3.5833862462499555\n",
      "step 5\n",
      "loss is now 2.978946166015569\n",
      "step 6\n",
      "loss is now 2.4304076790624403\n",
      "step 7\n",
      "loss is now 1.9377707853905637\n",
      "step 8\n",
      "loss is now 1.501035484999939\n",
      "step 9\n",
      "loss is now 1.1202017778905646\n",
      "step 10\n",
      "loss is now 0.7952696640624431\n",
      "step 11\n",
      "loss is now 0.5262391435155735\n",
      "step 12\n",
      "loss is now 0.31311021624995605\n",
      "step 13\n",
      "loss is now 0.15588288226559058\n",
      "step 14\n",
      "loss is now 0.05455714156247709\n",
      "final w =  [[2.092725]\n",
      " [3.075   ]]\n"
     ]
    },
    {
     "data": {
      "text/plain": [
       "array([[2.092725],\n",
       "       [3.075   ]])"
      ]
     },
     "execution_count": 951,
     "metadata": {},
     "output_type": "execute_result"
    }
   ],
   "source": [
    "lm = linear_model()\n",
    "lm.train(X,y,loss_measure = 'MSE')"
   ]
  },
  {
   "cell_type": "code",
   "execution_count": 901,
   "metadata": {},
   "outputs": [],
   "source": [
    "X_2d_new = np.array([[2,3],\n",
    "                   [0,5]])"
   ]
  },
  {
   "cell_type": "code",
   "execution_count": 855,
   "metadata": {},
   "outputs": [
    {
     "data": {
      "text/plain": [
       "array([[13.845125],\n",
       "       [16.15    ]])"
      ]
     },
     "execution_count": 855,
     "metadata": {},
     "output_type": "execute_result"
    }
   ],
   "source": [
    "lm.predict(X_2d_new)"
   ]
  },
  {
   "cell_type": "code",
   "execution_count": 828,
   "metadata": {},
   "outputs": [],
   "source": [
    "# let's use the model we have trained for predicting the results for new data"
   ]
  },
  {
   "cell_type": "code",
   "execution_count": null,
   "metadata": {},
   "outputs": [],
   "source": [
    "# The effect of initialzing weighhts with very smalll values. "
   ]
  },
  {
   "cell_type": "code",
   "execution_count": 939,
   "metadata": {},
   "outputs": [],
   "source": [
    "# ok, we know that dldw is basically how much the loss is affected when the weight is changed a little bit. Since the trajectory is not linear\n",
    "# we expect that dldw is not constant. But I basically makes it so in the above code."
   ]
  },
  {
   "cell_type": "markdown",
   "metadata": {},
   "source": [
    "I think now I started to grasp the idea of foward pass and backward pass.\n",
    "Where do we need the dldw, we need it when we want to update w. Now dldw is not constatnt because again , imagin that you are in this half-circle \n",
    "down. as you apprach the bottom the slopes acually goes dowm. I am going to do this for the above code."
   ]
  },
  {
   "cell_type": "code",
   "execution_count": 995,
   "metadata": {},
   "outputs": [],
   "source": [
    "class linear_model:\n",
    "    def __init__(self):\n",
    "        pass\n",
    "    \n",
    "    def calc_loss(self,X,y,w, loss_measure = 'MSE'):\n",
    "        \n",
    "        \n",
    "        \"\"\"\n",
    "        Calculating the loss or the deviation of the results we got from the model compared with the real values. The first step is to calculate the X@w which represents the results we got from\n",
    "        the model. The second step is to evaulate the loss which can be done through a loss function that we define. for example here we define two ways to caculate the loss either using MAE, in\n",
    "        which we first calculate the absolute difference between each predicted and true value and then we calucalte the mean. or using the MSW, in which we calculate the abolute difference between\n",
    "        true and preidcted value, square it and then find the average. The loss we then be returned.\n",
    "        \n",
    "        \"\"\"\n",
    "        \n",
    "       \n",
    "        losses = []\n",
    "        y_predicted = np.zeros(len(X))\n",
    "        y_predicted = X@w\n",
    "        \n",
    "        if loss_measure == 'MSE':\n",
    "            loss = (y - y_predicted)**2\n",
    "        elif loss_measure == 'MAE':\n",
    "            loss= abs(y - y_predicted)\n",
    "\n",
    "        #print('the true value = ',y)\n",
    "        #print('the predicted value = ',y_predicted)\n",
    "        losses.append(loss)\n",
    "        total_loss = np.mean(losses)\n",
    "        #print('the total loss =', total_loss )\n",
    "        return total_loss\n",
    "      \n",
    "\n",
    "    def diff(self,w,X,y, loss_measure):\n",
    "        \"\"\"\n",
    "        given a function f(x) and a point w, calculate th f'(x)\n",
    "        \n",
    "        \"\"\"\n",
    "        dldw = np.ones([X.shape[1],1])\n",
    "        dldw[0] = 0.02\n",
    "        dldw[1] = 0.02\n",
    "        \n",
    "        \n",
    "        for i in range(len(w)):\n",
    "\n",
    "            # f(w)\n",
    "\n",
    "            loss_w = self.calc_loss(X,y,w,loss_measure = loss_measure)\n",
    "            # we will choose the margin that we will accept as 0.5\n",
    "\n",
    "            # f(w+h)\n",
    "\n",
    "            h = 0.005\n",
    "            w[i] = w[i] + h\n",
    "\n",
    "            # dldw = f(w+h) - f(w)/h\n",
    "            dldw[i] = (self.calc_loss(X,y,w,loss_measure = loss_measure) - loss_w)/h\n",
    "            \n",
    "            print('dldw')\n",
    "            print(dldw)\n",
    "            \n",
    "            return dldw  \n",
    "        \n",
    "        \n",
    "    # calculate the derivitives, this happen once, that was my mistake, I was including it in the for loop.\n",
    "\n",
    "        \n",
    "    \n",
    "\n",
    "\n",
    "    def train(self,X,y,loss_measure = 'MAE'):\n",
    "        # initilization\n",
    "        np.random.seed(50)\n",
    "        w = np.random.rand(X.shape[1],1)\n",
    "        # intialization. I am changing this manually\n",
    "        w[0] = 1\n",
    "        w[1] = 4\n",
    "        print(w)    \n",
    "        # updating the weight     \n",
    "        lr =0.01\n",
    "        \n",
    "        for i in range(50):\n",
    "            print('step',i)\n",
    "            # calculate the loss at the current weights\n",
    "            loss_w = self.calc_loss(X,y,w)\n",
    "            print('loss is now',loss_w)\n",
    "            # stoping condition, note that we don't require the loss is to be exactly zero but close enough\n",
    "            if loss_w <= 0.08 :\n",
    "                self.w = w\n",
    "                print('final w = ',self.w)\n",
    "                return self.w\n",
    "            \n",
    "            # updating the weight. \n",
    "            elif loss_w > 0.08 :\n",
    "                #First at that particular point we calculate dldw \n",
    "                dldw = self.diff(w,X,y,loss_measure)\n",
    "                # Now we update the weight\n",
    "                w = w -lr*dldw\n",
    "                print('w')\n",
    "                print(w)          \n",
    "    def predict(self,X_new):\n",
    "        predicted_y = X_new@self.w\n",
    "        \n",
    "        return predicted_y"
   ]
  },
  {
   "cell_type": "code",
   "execution_count": 996,
   "metadata": {},
   "outputs": [
    {
     "name": "stdout",
     "output_type": "stream",
     "text": [
      "[[1.]\n",
      " [4.]]\n",
      "step 0\n",
      "loss is now 8.5\n",
      "dldw\n",
      "[[-13.9675]\n",
      " [  0.02  ]]\n",
      "w\n",
      "[[1.144675]\n",
      " [3.9998  ]]\n",
      "step 1\n",
      "loss is now 6.610029536562538\n",
      "dldw\n",
      "[[-12.086525]\n",
      " [  0.02    ]]\n",
      "w\n",
      "[[1.27054025]\n",
      " [3.9996    ]]\n",
      "step 2\n",
      "loss is now 5.187093050755465\n",
      "dldw\n",
      "[[-10.45007675]\n",
      " [  0.02      ]]\n",
      "w\n",
      "[[1.38004102]\n",
      " [3.9994    ]]\n",
      "step 3\n",
      "loss is now 4.116656776996386\n",
      "dldw\n",
      "[[-9.02636677]\n",
      " [ 0.02      ]]\n",
      "w\n",
      "[[1.47530469]\n",
      " [3.9992    ]]\n",
      "step 4\n",
      "loss is now 3.3121598252776736\n",
      "dldw\n",
      "[[-7.78773909]\n",
      " [ 0.02      ]]\n",
      "w\n",
      "[[1.55818208]\n",
      " [3.999     ]]\n",
      "step 5\n",
      "loss is now 2.708197111883165\n",
      "dldw\n",
      "[[-6.71013301]\n",
      " [ 0.02      ]]\n",
      "w\n",
      "[[1.63028341]\n",
      " [3.9988    ]]\n",
      "step 6\n",
      "loss is now 2.2553617118677787\n",
      "dldw\n",
      "[[-5.77261572]\n",
      " [ 0.02      ]]\n",
      "w\n",
      "[[1.69300956]\n",
      " [3.9986    ]]\n",
      "step 7\n",
      "loss is now 1.9163429428806587\n",
      "dldw\n",
      "[[-4.95697568]\n",
      " [ 0.02      ]]\n",
      "w\n",
      "[[1.74757932]\n",
      " [3.9984    ]]\n",
      "step 8\n",
      "loss is now 1.662974664102352\n",
      "dldw\n",
      "[[-4.24736884]\n",
      " [ 0.02      ]]\n",
      "w\n",
      "[[1.79505301]\n",
      " [3.9982    ]]\n",
      "step 9\n",
      "loss is now 1.4740025772937475\n",
      "dldw\n",
      "[[-3.63001089]\n",
      " [ 0.02      ]]\n",
      "w\n",
      "[[1.83635312]\n",
      " [3.998     ]]\n",
      "step 10\n",
      "loss is now 1.3333955528776813\n",
      "dldw\n",
      "[[-3.09290947]\n",
      " [ 0.02      ]]\n",
      "w\n",
      "[[1.87228221]\n",
      " [3.9978    ]]\n",
      "step 11\n",
      "loss is now 1.229068565298418\n",
      "dldw\n",
      "[[-2.62563124]\n",
      " [ 0.02      ]]\n",
      "w\n",
      "[[1.90353852]\n",
      " [3.9976    ]]\n",
      "step 12\n",
      "loss is now 1.1519170333992517\n",
      "dldw\n",
      "[[-2.21909918]\n",
      " [ 0.02      ]]\n",
      "w\n",
      "[[1.93072952]\n",
      " [3.9974    ]]\n",
      "step 13\n",
      "loss is now 1.0950867396799187\n",
      "dldw\n",
      "[[-1.86541629]\n",
      " [ 0.02      ]]\n",
      "w\n",
      "[[1.95438368]\n",
      " [3.9972    ]]\n",
      "step 14\n",
      "loss is now 1.0534219516946188\n",
      "dldw\n",
      "[[-1.55771217]\n",
      " [ 0.02      ]]\n",
      "w\n",
      "[[1.9749608]\n",
      " [3.997    ]]\n",
      "step 15\n",
      "loss is now 1.0230483311139078\n",
      "dldw\n",
      "[[-1.29000959]\n",
      " [ 0.02      ]]\n",
      "w\n",
      "[[1.9928609]\n",
      " [3.9968   ]]\n",
      "step 16\n",
      "loss is now 1.0010577821923299\n",
      "dldw\n",
      "[[-1.05710834]\n",
      " [ 0.02      ]]\n",
      "w\n",
      "[[2.00843198]\n",
      " [3.9966    ]]\n",
      "step 17\n",
      "loss is now 0.9852703873745773\n",
      "dldw\n",
      "[[-0.85448426]\n",
      " [ 0.02      ]]\n",
      "w\n",
      "[[2.02197682]\n",
      " [3.9964    ]]\n",
      "step 18\n",
      "loss is now 0.9740546285625757\n",
      "dldw\n",
      "[[-0.6782013]\n",
      " [ 0.02     ]]\n",
      "w\n",
      "[[2.03375884]\n",
      " [3.9962    ]]\n",
      "step 19\n",
      "loss is now 0.9661916712125114\n",
      "dldw\n",
      "[[-0.52483513]\n",
      " [ 0.02      ]]\n",
      "w\n",
      "[[2.04400719]\n",
      " [3.996     ]]\n",
      "step 20\n",
      "loss is now 0.9607729529671665\n",
      "dldw\n",
      "[[-0.39140657]\n",
      " [ 0.02      ]]\n",
      "w\n",
      "[[2.05292125]\n",
      " [3.9958    ]]\n",
      "step 21\n",
      "loss is now 0.9571229399312049\n",
      "dldw\n",
      "[[-0.27532371]\n",
      " [ 0.02      ]]\n",
      "w\n",
      "[[2.06067449]\n",
      " [3.9956    ]]\n",
      "step 22\n",
      "loss is now 0.9547408970482152\n",
      "dldw\n",
      "[[-0.17433163]\n",
      " [ 0.02      ]]\n",
      "w\n",
      "[[2.06741781]\n",
      " [3.9954    ]]\n",
      "step 23\n",
      "loss is now 0.9532570195515971\n",
      "dldw\n",
      "[[-0.08646852]\n",
      " [ 0.02      ]]\n",
      "w\n",
      "[[2.07328249]\n",
      " [3.9952    ]]\n",
      "step 24\n",
      "loss is now 0.9523994076034259\n",
      "dldw\n",
      "[[-0.01002761]\n",
      " [ 0.02      ]]\n",
      "w\n",
      "[[2.07838277]\n",
      " [3.995     ]]\n",
      "step 25\n",
      "loss is now 0.9519692249056053\n",
      "dldw\n",
      "[[0.05647598]\n",
      " [0.02      ]]\n",
      "w\n",
      "[[2.08281801]\n",
      " [3.9948    ]]\n",
      "step 26\n",
      "loss is now 0.9518220315437247\n",
      "dldw\n",
      "[[0.1143341]\n",
      " [0.02     ]]\n",
      "w\n",
      "[[2.08667467]\n",
      " [3.9946    ]]\n",
      "step 27\n",
      "loss is now 0.9518537725198457\n",
      "dldw\n",
      "[[0.16467067]\n",
      " [0.02      ]]\n",
      "w\n",
      "[[2.09002796]\n",
      " [3.9944    ]]\n",
      "step 28\n",
      "loss is now 0.9519902748747737\n",
      "dldw\n",
      "[[0.20846348]\n",
      " [0.02      ]]\n",
      "w\n",
      "[[2.09294333]\n",
      " [3.9942    ]]\n",
      "step 29\n",
      "loss is now 0.9521793871495079\n",
      "dldw\n",
      "[[0.24656323]\n",
      " [0.02      ]]\n",
      "w\n",
      "[[2.09547769]\n",
      " [3.994     ]]\n",
      "step 30\n",
      "loss is now 0.9523851072515463\n",
      "dldw\n",
      "[[0.27971001]\n",
      " [0.02      ]]\n",
      "w\n",
      "[[2.09768059]\n",
      " [3.9938    ]]\n",
      "step 31\n",
      "loss is now 0.9525832052688029\n",
      "dldw\n",
      "[[0.30854771]\n",
      " [0.02      ]]\n",
      "w\n",
      "[[2.09959512]\n",
      " [3.9936    ]]\n",
      "step 32\n",
      "loss is now 0.9527579690432252\n",
      "dldw\n",
      "[[0.33363651]\n",
      " [0.02      ]]\n",
      "w\n",
      "[[2.10125875]\n",
      " [3.9934    ]]\n",
      "step 33\n",
      "loss is now 0.9528997919346763\n",
      "dldw\n",
      "[[0.35546376]\n",
      " [0.02      ]]\n",
      "w\n",
      "[[2.10270411]\n",
      " [3.9932    ]]\n",
      "step 34\n",
      "loss is now 0.9530033914035294\n",
      "dldw\n",
      "[[0.37445347]\n",
      " [0.02      ]]\n",
      "w\n",
      "[[2.10395958]\n",
      " [3.993     ]]\n",
      "step 35\n",
      "loss is now 0.9530664992874173\n",
      "dldw\n",
      "[[0.39097452]\n",
      " [0.02      ]]\n",
      "w\n",
      "[[2.10504983]\n",
      " [3.9928    ]]\n",
      "step 36\n",
      "loss is now 0.9530889040811747\n",
      "dldw\n",
      "[[0.40534783]\n",
      " [0.02      ]]\n",
      "w\n",
      "[[2.10599635]\n",
      " [3.9926    ]]\n",
      "step 37\n",
      "loss is now 0.953071755278777\n",
      "dldw\n",
      "[[0.41785261]\n",
      " [0.02      ]]\n",
      "w\n",
      "[[2.10681783]\n",
      " [3.9924    ]]\n",
      "step 38\n",
      "loss is now 0.9530170622687517\n",
      "dldw\n",
      "[[0.42873177]\n",
      " [0.02      ]]\n",
      "w\n",
      "[[2.10753051]\n",
      " [3.9922    ]]\n",
      "step 39\n",
      "loss is now 0.9529273371800666\n",
      "dldw\n",
      "[[0.43819664]\n",
      " [0.02      ]]\n",
      "w\n",
      "[[2.10814854]\n",
      " [3.992     ]]\n",
      "step 40\n",
      "loss is now 0.9528053438069658\n",
      "dldw\n",
      "[[0.44643108]\n",
      " [0.02      ]]\n",
      "w\n",
      "[[2.10868423]\n",
      " [3.9918    ]]\n",
      "step 41\n",
      "loss is now 0.9526539243218427\n",
      "dldw\n",
      "[[0.45359504]\n",
      " [0.02      ]]\n",
      "w\n",
      "[[2.10914828]\n",
      " [3.9916    ]]\n",
      "step 42\n",
      "loss is now 0.9524758826881605\n",
      "dldw\n",
      "[[0.45982768]\n",
      " [0.02      ]]\n",
      "w\n",
      "[[2.10955001]\n",
      " [3.9914    ]]\n",
      "step 43\n",
      "loss is now 0.9522739090950367\n",
      "dldw\n",
      "[[0.46525009]\n",
      " [0.02      ]]\n",
      "w\n",
      "[[2.10989751]\n",
      " [3.9912    ]]\n",
      "step 44\n",
      "loss is now 0.9520505337927901\n",
      "dldw\n",
      "[[0.46996757]\n",
      " [0.02      ]]\n",
      "w\n",
      "[[2.11019783]\n",
      " [3.991     ]]\n",
      "step 45\n",
      "loss is now 0.9518081017480565\n",
      "dldw\n",
      "[[0.47407179]\n",
      " [0.02      ]]\n",
      "w\n",
      "[[2.11045711]\n",
      " [3.9908    ]]\n",
      "step 46\n",
      "loss is now 0.9515487618096325\n",
      "dldw\n",
      "[[0.47764246]\n",
      " [0.02      ]]\n",
      "w\n",
      "[[2.11068069]\n",
      " [3.9906    ]]\n",
      "step 47\n",
      "loss is now 0.9512744657720654\n",
      "dldw\n",
      "[[0.48074894]\n",
      " [0.02      ]]\n",
      "w\n",
      "[[2.1108732]\n",
      " [3.9904   ]]\n",
      "step 48\n",
      "loss is now 0.9509869739865213\n",
      "dldw\n",
      "[[0.48345158]\n",
      " [0.02      ]]\n",
      "w\n",
      "[[2.11103868]\n",
      " [3.9902    ]]\n",
      "step 49\n",
      "loss is now 0.9506878651057447\n",
      "dldw\n",
      "[[0.48580287]\n",
      " [0.02      ]]\n",
      "w\n",
      "[[2.11118065]\n",
      " [3.99      ]]\n"
     ]
    }
   ],
   "source": [
    "lm = linear_model()\n",
    "lm.train(X,y,loss_measure = 'MSE')"
   ]
  },
  {
   "cell_type": "code",
   "execution_count": null,
   "metadata": {},
   "outputs": [],
   "source": [
    "# note that weight in the first dimention X[0] is being updated correctly, when I initialize with weight that is bigger than the correct once, the weight goes down, and when I initialize with \n",
    "# a weight that is smaller than the correct weight then the weight will go up. But, for some reason there is almost no movement in t"
   ]
  },
  {
   "cell_type": "code",
   "execution_count": null,
   "metadata": {},
   "outputs": [],
   "source": []
  }
 ],
 "metadata": {
  "kernelspec": {
   "display_name": "Python 3",
   "language": "python",
   "name": "python3"
  },
  "language_info": {
   "codemirror_mode": {
    "name": "ipython",
    "version": 3
   },
   "file_extension": ".py",
   "mimetype": "text/x-python",
   "name": "python",
   "nbconvert_exporter": "python",
   "pygments_lexer": "ipython3",
   "version": "3.8.3"
  }
 },
 "nbformat": 4,
 "nbformat_minor": 4
}

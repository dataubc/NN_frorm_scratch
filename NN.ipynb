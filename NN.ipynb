{
 "cells": [
  {
   "cell_type": "markdown",
   "metadata": {},
   "source": [
    "### Building Intuition about NN"
   ]
  },
  {
   "cell_type": "code",
   "execution_count": 1,
   "metadata": {},
   "outputs": [],
   "source": [
    "import numpy as np"
   ]
  },
  {
   "cell_type": "markdown",
   "metadata": {},
   "source": [
    "#### Dot product"
   ]
  },
  {
   "cell_type": "markdown",
   "metadata": {},
   "source": [
    "The best approach to get an intuition for building NN is to start from scratch, and I will start with matrix mutiplication, as it's the foundational corner stone.\n"
   ]
  },
  {
   "cell_type": "markdown",
   "metadata": {},
   "source": [
    "First, I will start with the concept of dot product. There are multiple useful ways to think about dot product as following:\n",
    "-  1 The weighted average. For example the cummlative GPA of a student who study for 5 years could be calucalted by dot producting the weight vector with the gpa vectors"
   ]
  },
  {
   "cell_type": "code",
   "execution_count": 2,
   "metadata": {},
   "outputs": [
    {
     "data": {
      "text/plain": [
       "array([3.3, 3.1, 2.9, 3.4, 3.5])"
      ]
     },
     "execution_count": 2,
     "metadata": {},
     "output_type": "execute_result"
    }
   ],
   "source": [
    "gpa = np.array([3.3,3.1,2.9,3.4,3.5])\n",
    "gpa"
   ]
  },
  {
   "cell_type": "code",
   "execution_count": 3,
   "metadata": {},
   "outputs": [
    {
     "data": {
      "text/plain": [
       "array([0.06666667, 0.13333333, 0.2       , 0.26666667, 0.33333333])"
      ]
     },
     "execution_count": 3,
     "metadata": {},
     "output_type": "execute_result"
    }
   ],
   "source": [
    "weights = np.array([1/15,2/15,3/15,4/15,5/15])\n",
    "weights"
   ]
  },
  {
   "cell_type": "markdown",
   "metadata": {},
   "source": [
    "> We want: 1/15 * 0.066 + 2/15 * 0.1333 + 3.15 * 0.2 + ...."
   ]
  },
  {
   "cell_type": "markdown",
   "metadata": {},
   "source": [
    "essentially to multiply each gpa with the asssocaited weght. To do this, we need the first rule in matrix multiplication, which dictates the shape of each vector. if we are performing A@B, and A shape is M * N , B shape has to be N * K, which is to say that the rows of B has to match the columns of A."
   ]
  },
  {
   "cell_type": "code",
   "execution_count": 4,
   "metadata": {},
   "outputs": [
    {
     "data": {
      "text/plain": [
       "(5,)"
      ]
     },
     "execution_count": 4,
     "metadata": {},
     "output_type": "execute_result"
    }
   ],
   "source": [
    "# let's check the shape of gpa\n",
    "gpa.shape"
   ]
  },
  {
   "cell_type": "code",
   "execution_count": 5,
   "metadata": {},
   "outputs": [
    {
     "data": {
      "text/plain": [
       "array([[3.3, 3.1, 2.9, 3.4, 3.5]])"
      ]
     },
     "execution_count": 5,
     "metadata": {},
     "output_type": "execute_result"
    }
   ],
   "source": [
    "# we need to reshape gpa to be 1*5\n",
    "\n",
    "gpa = gpa.reshape(1,5)\n",
    "gpa"
   ]
  },
  {
   "cell_type": "code",
   "execution_count": 6,
   "metadata": {},
   "outputs": [
    {
     "data": {
      "text/plain": [
       "(5,)"
      ]
     },
     "execution_count": 6,
     "metadata": {},
     "output_type": "execute_result"
    }
   ],
   "source": [
    "# let's check the shape of weights\n",
    "weights.shape"
   ]
  },
  {
   "cell_type": "code",
   "execution_count": 7,
   "metadata": {},
   "outputs": [
    {
     "data": {
      "text/plain": [
       "array([[0.06666667],\n",
       "       [0.13333333],\n",
       "       [0.2       ],\n",
       "       [0.26666667],\n",
       "       [0.33333333]])"
      ]
     },
     "execution_count": 7,
     "metadata": {},
     "output_type": "execute_result"
    }
   ],
   "source": [
    "# we need to reshape it to be 5*1\n",
    "\n",
    "weights = weights.reshape(5,1)\n",
    "weights"
   ]
  },
  {
   "cell_type": "code",
   "execution_count": 8,
   "metadata": {},
   "outputs": [
    {
     "data": {
      "text/plain": [
       "array([[3.28666667]])"
      ]
     },
     "execution_count": 8,
     "metadata": {},
     "output_type": "execute_result"
    }
   ],
   "source": [
    "# now to get the dot product of gpa and weights we use the @ symbol\n",
    "\n",
    "gpa@weights"
   ]
  },
  {
   "cell_type": "markdown",
   "metadata": {},
   "source": [
    " > and this will be the final results for the student."
   ]
  },
  {
   "cell_type": "markdown",
   "metadata": {},
   "source": [
    "Now let's say we have more than one student. We can put the results of that student in the second column of gpa matrix. Note that the number of rows in gpa matrix don't require any change in the shape of the weights vectos. Additionally note that the change in the results will be reflected in the number of rows and not in the number of columns. Let's test this"
   ]
  },
  {
   "cell_type": "code",
   "execution_count": 9,
   "metadata": {},
   "outputs": [
    {
     "data": {
      "text/plain": [
       "array([[3.3, 3.1, 2.9, 3.4, 3.5],\n",
       "       [3.1, 2.5, 2.6, 2.8, 2.9]])"
      ]
     },
     "execution_count": 9,
     "metadata": {},
     "output_type": "execute_result"
    }
   ],
   "source": [
    "# first, let's create the record of student b and then add it to the gpa matrix\n",
    "student_b = np.array([3.1,2.5,2.6,2.8,2.9]).reshape(1,5)\n",
    "gpa = np.vstack([gpa,student_b])\n",
    "gpa"
   ]
  },
  {
   "cell_type": "code",
   "execution_count": 10,
   "metadata": {},
   "outputs": [
    {
     "data": {
      "text/plain": [
       "array([[3.28666667],\n",
       "       [2.77333333]])"
      ]
     },
     "execution_count": 10,
     "metadata": {},
     "output_type": "execute_result"
    }
   ],
   "source": [
    "# now let's get the results for both students\n",
    "gpa@weights"
   ]
  },
  {
   "cell_type": "markdown",
   "metadata": {},
   "source": [
    "# multi-output\n",
    "We saw how changing the rows or the columns of X change the output. But how about chaning the type of outputs that we want. In out previous examle we had one target which was the gpa, what if we want to change the number of outpouts to be more than one, say for example we want to have the average of grades in addition to the gpa. In this case we need to include another column in the weight matrix to connect with the average. So essentially the number of columns in `w` should be the same as the number of outputs.\n"
   ]
  },
  {
   "cell_type": "code",
   "execution_count": 11,
   "metadata": {},
   "outputs": [
    {
     "data": {
      "text/plain": [
       "array([[0.06666667, 0.2       ],\n",
       "       [0.13333333, 0.2       ],\n",
       "       [0.2       , 0.2       ],\n",
       "       [0.26666667, 0.2       ],\n",
       "       [0.33333333, 0.2       ]])"
      ]
     },
     "execution_count": 11,
     "metadata": {},
     "output_type": "execute_result"
    }
   ],
   "source": [
    "weights = np.hstack([weights,np.array([1/5,1/5,1/5,1/5,1/5]).reshape(5,1)])\n",
    "weights\n"
   ]
  },
  {
   "cell_type": "markdown",
   "metadata": {},
   "source": [
    "Now for each of the two students we have, we will calculate the avg in addition to the gpa\n"
   ]
  },
  {
   "cell_type": "code",
   "execution_count": 12,
   "metadata": {},
   "outputs": [
    {
     "data": {
      "text/plain": [
       "array([[3.28666667, 3.24      ],\n",
       "       [2.77333333, 2.78      ]])"
      ]
     },
     "execution_count": 12,
     "metadata": {},
     "output_type": "execute_result"
    }
   ],
   "source": [
    "gpa@weights"
   ]
  },
  {
   "cell_type": "markdown",
   "metadata": {},
   "source": [
    ">The first student, has a cummulative gpa of 3.28 and avg of 3.24"
   ]
  },
  {
   "cell_type": "code",
   "execution_count": 13,
   "metadata": {},
   "outputs": [],
   "source": [
    "# This knowledge will come handy when we are dealing with NN that has many hidden layer with many units.\n",
    "# for example let's say we have the seoncd layer with 10 units, and the third layer 5 units, then the w matrix will be 10 by 5, i,e 10 rows and 5 columns.\n"
   ]
  },
  {
   "cell_type": "markdown",
   "metadata": {},
   "source": [
    "- 2: The concept of dot product as a similarity measure. While this could not be of obvius value here, thinking about dot product as a similarity measure is very useful. Here we will be thiking of two vector that origiated form the zero and live in the 2D plane. Say vecor A is\n"
   ]
  },
  {
   "cell_type": "markdown",
   "metadata": {},
   "source": [
    "[0 3] and nother vector B which is [3 0]. It's obvious that A lives in the x-axis while B lives in the y-axis. The dot product between those vectors is zero reflecting that A and B are basically totally different. Now, if we consider another vector C [0 2.9], we can see clearly that C is very similar to vector A. Indeed the dot product will be much bigger between A and C than between A and B."
   ]
  },
  {
   "cell_type": "markdown",
   "metadata": {},
   "source": [
    "#### Solving linear equation system "
   ]
  },
  {
   "cell_type": "markdown",
   "metadata": {},
   "source": [
    "Building on what we now know about dot product let's try to solve the following equation:\n"
   ]
  },
  {
   "cell_type": "markdown",
   "metadata": {},
   "source": [
    "X.w = y\n"
   ]
  },
  {
   "cell_type": "markdown",
   "metadata": {},
   "source": [
    "what does this eqaution tells us is that the dot product of feature matrix `X` and weight vector `w` will get us the response vector `y`. \n"
   ]
  },
  {
   "cell_type": "markdown",
   "metadata": {},
   "source": [
    "let's creat our feature matrix, we will have a data with only one example and 5 features."
   ]
  },
  {
   "cell_type": "code",
   "execution_count": 14,
   "metadata": {},
   "outputs": [
    {
     "data": {
      "text/plain": [
       "array([[10, 12,  5,  3, -5]])"
      ]
     },
     "execution_count": 14,
     "metadata": {},
     "output_type": "execute_result"
    }
   ],
   "source": [
    "X = np.array([10,12,5,3,-5]).reshape(1,5)\n",
    "X\n"
   ]
  },
  {
   "cell_type": "markdown",
   "metadata": {},
   "source": [
    "We have come to know that there is a dependent variable `y`, that is linearly dependent on those features. That means if we take the right mix of theres features in `X` we will get y.\n",
    " of course the million dollar question is that what is the right mix. Let's say we the right mix of feature X1 is w1 and from featureX2 is w2 etc. Now, we will get the following equation\n",
    "\n",
    "X1.w1 + X2.w2 + ...... Xn.wn = y"
   ]
  },
  {
   "cell_type": "markdown",
   "metadata": {},
   "source": [
    "we can write the above equation in a compact form in the following form:\n",
    "\n",
    "X.w = y"
   ]
  },
  {
   "cell_type": "markdown",
   "metadata": {},
   "source": [
    "Now, to write this equation in the matrix form, we need to know the rules of matrix multiplication\n",
    "\n"
   ]
  },
  {
   "cell_type": "markdown",
   "metadata": {},
   "source": [
    "- the rows of w has to be the same as the columns of X\n",
    "- so if X shape is 1,5 then w needs to be 5x, so we can have any numbe of columns but the rows have to be 5. The resuled matrix will take the shape of (rows of X , columns of w)\n",
    "- why is this important, well, since the number of rows in X is the numbe of example, observations in the data does not affect. We can have the same shape of w for any number of observations. \n",
    "- On the other hands, w is affected by the number of features, of course becuase each w is connected with aparticualr feature.\n",
    "- Now when it comes the resulted y, of coursee we need one y for each observation, and therefore the numbe of rows in y is the same as number of observation. Now let's say we don't have one output\n",
    "- I mean we have y1 and y2, we will face this in multi-classificaiton and also in NN when w have a layer with more than one unit. Here th columns of y will increase, and guess who will increase the numbe of columns to accomodate this, yes that's right. That's the NN"
   ]
  },
  {
   "cell_type": "code",
   "execution_count": 15,
   "metadata": {},
   "outputs": [],
   "source": [
    "# ok, we need to learn about the dot product, so we can peformr X.w"
   ]
  },
  {
   "cell_type": "code",
   "execution_count": 16,
   "metadata": {},
   "outputs": [],
   "source": [
    "# X is 5 * 1 and the output is 2 *1 so we need the w to be 2*5\n",
    "\n",
    "w = np.array([\n",
    "    [ 0.1, 0.1, 0.1,0.1,0.1],\n",
    "    [0.1,0.1,0.1,0.1,0.1]\n",
    "\n",
    "])"
   ]
  },
  {
   "cell_type": "code",
   "execution_count": 17,
   "metadata": {},
   "outputs": [],
   "source": [
    "w = w.reshape(5,2)"
   ]
  },
  {
   "cell_type": "code",
   "execution_count": 18,
   "metadata": {},
   "outputs": [
    {
     "data": {
      "text/plain": [
       "array([[0.1, 0.1],\n",
       "       [0.1, 0.1],\n",
       "       [0.1, 0.1],\n",
       "       [0.1, 0.1],\n",
       "       [0.1, 0.1]])"
      ]
     },
     "execution_count": 18,
     "metadata": {},
     "output_type": "execute_result"
    }
   ],
   "source": [
    "w"
   ]
  },
  {
   "cell_type": "code",
   "execution_count": 19,
   "metadata": {},
   "outputs": [
    {
     "data": {
      "text/plain": [
       "array([[2.5, 2.5]])"
      ]
     },
     "execution_count": 19,
     "metadata": {},
     "output_type": "execute_result"
    }
   ],
   "source": [
    "X@w"
   ]
  },
  {
   "cell_type": "code",
   "execution_count": 20,
   "metadata": {},
   "outputs": [],
   "source": [
    "# input layer, 5 nodes        layer 1, 2 nodes\n",
    "\n",
    "#\n",
    "#                    #\n",
    "#\n",
    "#                    #\n",
    "#"
   ]
  },
  {
   "cell_type": "code",
   "execution_count": 21,
   "metadata": {},
   "outputs": [],
   "source": [
    "# let's make up a simple example to see if the NN can actually learn from examples\n",
    "\n",
    "\n",
    "# y X1 + X2 + X3 + X4 + X5\n",
    "\n",
    "# examples\n",
    "X = np.array([[1,1,1,1,1],\n",
    "             [2,1,2,2,2],\n",
    "            [3,1,3,3,3],\n",
    "            [3,2,3,3,3],\n",
    "            [3,3,3,3,3],\n",
    "            [3,4,3,3,3],\n",
    "            [3,5,3,3,3],\n",
    "            [3,6,3,3,3],\n",
    "            [3,7,3,3,3],\n",
    "            [3,8,3,3,3]\n",
    "             ])\n"
   ]
  },
  {
   "cell_type": "code",
   "execution_count": 22,
   "metadata": {},
   "outputs": [
    {
     "data": {
      "text/plain": [
       "(10, 5)"
      ]
     },
     "execution_count": 22,
     "metadata": {},
     "output_type": "execute_result"
    }
   ],
   "source": [
    "X.shape"
   ]
  },
  {
   "cell_type": "code",
   "execution_count": 23,
   "metadata": {},
   "outputs": [
    {
     "data": {
      "text/plain": [
       "(10,)"
      ]
     },
     "execution_count": 23,
     "metadata": {},
     "output_type": "execute_result"
    }
   ],
   "source": [
    "y = np.array([5,9,13,14,15,16,17,18,19,20])\n",
    "y.shape"
   ]
  },
  {
   "cell_type": "markdown",
   "metadata": {},
   "source": [
    "### Train function"
   ]
  },
  {
   "cell_type": "code",
   "execution_count": 24,
   "metadata": {},
   "outputs": [],
   "source": [
    "class linear_model:\n",
    "    def __init__(self):\n",
    "        pass\n",
    "\n",
    "    def train(self,X,y):\n",
    "        # create the weight vectorr\n",
    "        w = np.ones([X.shape[1],1])\n",
    "        losses = []\n",
    "        y_predicted = np.zeros(len(X))\n",
    "        for i in range(len(X)):\n",
    "            y_predicted[i] = X[i]@w\n",
    "            loss = y[i] - y_predicted[i]\n",
    "            \n",
    "            print('the true value = ',y[i])\n",
    "            print('the predicted value = ',y_predicted[i])\n",
    "            losses.append(loss)\n",
    "        total_loss = np.sum(losses)\n",
    "        print('the total loss =', total_loss )\n",
    "        "
   ]
  },
  {
   "cell_type": "code",
   "execution_count": 25,
   "metadata": {},
   "outputs": [],
   "source": [
    "lm = linear_model()"
   ]
  },
  {
   "cell_type": "code",
   "execution_count": 26,
   "metadata": {},
   "outputs": [
    {
     "name": "stdout",
     "output_type": "stream",
     "text": [
      "the true value =  5\n",
      "the predicted value =  5.0\n",
      "the true value =  9\n",
      "the predicted value =  9.0\n",
      "the true value =  13\n",
      "the predicted value =  13.0\n",
      "the true value =  14\n",
      "the predicted value =  14.0\n",
      "the true value =  15\n",
      "the predicted value =  15.0\n",
      "the true value =  16\n",
      "the predicted value =  16.0\n",
      "the true value =  17\n",
      "the predicted value =  17.0\n",
      "the true value =  18\n",
      "the predicted value =  18.0\n",
      "the true value =  19\n",
      "the predicted value =  19.0\n",
      "the true value =  20\n",
      "the predicted value =  20.0\n",
      "the total loss = 0.0\n"
     ]
    }
   ],
   "source": [
    "lm.train(X,y)"
   ]
  },
  {
   "cell_type": "code",
   "execution_count": 27,
   "metadata": {},
   "outputs": [
    {
     "data": {
      "text/plain": [
       "array([1, 1, 1, 1, 1])"
      ]
     },
     "execution_count": 27,
     "metadata": {},
     "output_type": "execute_result"
    }
   ],
   "source": [
    "X[0]"
   ]
  },
  {
   "cell_type": "code",
   "execution_count": 28,
   "metadata": {},
   "outputs": [],
   "source": [
    "# note that we used the correct w for this case and hence we have loss of zero, let's change ws"
   ]
  },
  {
   "cell_type": "code",
   "execution_count": 29,
   "metadata": {},
   "outputs": [],
   "source": [
    "class linear_model:\n",
    "    def __init__(self):\n",
    "        pass\n",
    "\n",
    "    def train(self,X,y):\n",
    "        w = np.ones([X.shape[1],1])\n",
    "        w[0] = 0.2\n",
    "        losses = []\n",
    "        y_predicted = np.zeros(len(X))\n",
    "        for i in range(len(X)):\n",
    "            y_predicted[i] = X[i]@w\n",
    "            loss_at_w = y[i] - y_predicted[i]\n",
    "            loss_at_w_plus_h = y[i] - y_predicted[i]\n",
    "            \n",
    "            print('the true value = ',y[i])\n",
    "            print('the predicted value = ',y_predicted[i])\n",
    "            losses.append(loss_at_w )\n",
    "        total_loss = np.sum(losses)\n",
    "        print('the total loss =', total_loss)\n",
    "              \n",
    "        \n",
    "        "
   ]
  },
  {
   "cell_type": "code",
   "execution_count": 30,
   "metadata": {},
   "outputs": [],
   "source": [
    "lm = linear_model()"
   ]
  },
  {
   "cell_type": "code",
   "execution_count": 31,
   "metadata": {},
   "outputs": [
    {
     "name": "stdout",
     "output_type": "stream",
     "text": [
      "the true value =  5\n",
      "the predicted value =  4.2\n",
      "the true value =  9\n",
      "the predicted value =  7.4\n",
      "the true value =  13\n",
      "the predicted value =  10.6\n",
      "the true value =  14\n",
      "the predicted value =  11.6\n",
      "the true value =  15\n",
      "the predicted value =  12.6\n",
      "the true value =  16\n",
      "the predicted value =  13.6\n",
      "the true value =  17\n",
      "the predicted value =  14.6\n",
      "the true value =  18\n",
      "the predicted value =  15.6\n",
      "the true value =  19\n",
      "the predicted value =  16.6\n",
      "the true value =  20\n",
      "the predicted value =  17.6\n",
      "the total loss = 21.599999999999998\n"
     ]
    }
   ],
   "source": [
    "lm.train(X,y)"
   ]
  },
  {
   "cell_type": "code",
   "execution_count": 32,
   "metadata": {},
   "outputs": [],
   "source": [
    "# as you can see here, the loss is no longer 0."
   ]
  },
  {
   "cell_type": "code",
   "execution_count": 33,
   "metadata": {},
   "outputs": [],
   "source": [
    "# it is obvious that we need to keep tweeking ws until we get the minium loss"
   ]
  },
  {
   "cell_type": "markdown",
   "metadata": {},
   "source": [
    "### now comes the calculs part, first we know that we can write the loss as a function of ws\n",
    "\n",
    "- L = f(w)\n",
    "- dl/dw = f'(w) = (f(w+h) - f(w))/h\n",
    "\n",
    "new_w = old+w - step_size* dl/dw"
   ]
  },
  {
   "cell_type": "code",
   "execution_count": 34,
   "metadata": {},
   "outputs": [],
   "source": [
    " #ok, I need to update w which is a vector of shape (x[1],1)\n",
    "        # any change in w, for example if we change w[0], the vector y will change completely, not only y[0] as we dicussed before.\n",
    "        # now as we said we want to change w by tweeking it a little bit, by adding dw, i.e adding a vector that will be similar in length to w\n",
    "              \n",
    "        # for example :\n",
    "              # w = [1               df/dw = [0.10                                                        [1.2\n",
    "              #      2                     0.04            > new w will be old_w _ step_size*dw.     >. 2.08         note that here we assumed step*size to be 2\n",
    "               #     3]                    0.03]                                                         2.06\n",
    "        \n",
    "        # let's calculate dl/dw\n",
    "        # but this will involve calculating the loss twice, one at and then at w + h\n",
    "        # let's make a function of calculating the loss\n",
    "        "
   ]
  },
  {
   "cell_type": "markdown",
   "metadata": {},
   "source": [
    "## Using a simple model to solve the equation 3X = 6"
   ]
  },
  {
   "cell_type": "code",
   "execution_count": 35,
   "metadata": {},
   "outputs": [],
   "source": [
    "class linear_model:\n",
    "    def __init__(self):\n",
    "        pass\n",
    "    \n",
    "    def calc_loss(self,X,y,w):\n",
    "       \n",
    "        losses = []\n",
    "        y_predicted = np.zeros(len(X))\n",
    "       \n",
    "        \n",
    "        y_predicted = X@w\n",
    "        loss= y - y_predicted\n",
    "            \n",
    "        print('the true value = ',y)\n",
    "        print('the predicted value = ',y_predicted)\n",
    "        losses.append(loss)\n",
    "        total_loss = np.sum(losses)\n",
    "        print('the total loss =', total_loss )\n",
    "        return total_loss\n",
    "      \n",
    "\n",
    "\n",
    "    def train(self,X,y):\n",
    "        w = np.ones([X.shape[1],1])\n",
    "        w[0] = 5\n",
    "        \n",
    "        for i in range(len(w)):\n",
    "            loss_w = self.calc_loss(X,y,w)\n",
    "            \n",
    "            # the case when the loss is positive, in this case we need to decrease w\n",
    "            \n",
    "            # we will choose the margin that we will accept as 0.5\n",
    "            \n",
    "            if abs(loss_w)> 0:\n",
    "                # since the equation is 3x =6 , then dw/dl = 3\n",
    "                dldw = 3\n",
    "            elif abs(loss_w)< 0:\n",
    "                dldw = -3\n",
    "                # we will make the the learning rate is 0.5\n",
    "            lr =1\n",
    "            w[0]= w[0] -lr*dldw\n",
    "            loss_w_dash= self.calc_loss(X,y,w)\n",
    "            print(loss_w_dash - loss_w)\n",
    "            loss_w = loss_w_dash\n",
    "\n",
    "            \n",
    "            self.w = w\n",
    "            print(self.w)\n",
    "        \n",
    "    def predict(self,X_new):\n",
    "        predicted_y = X_new@self.w\n",
    "        \n",
    "        return predicted_y"
   ]
  },
  {
   "cell_type": "code",
   "execution_count": 36,
   "metadata": {},
   "outputs": [],
   "source": [
    "X = np.array([3]).reshape(1,1)\n",
    "y = np.array([6]).reshape(1,1)"
   ]
  },
  {
   "cell_type": "code",
   "execution_count": 37,
   "metadata": {},
   "outputs": [
    {
     "data": {
      "text/plain": [
       "(1, 1)"
      ]
     },
     "execution_count": 37,
     "metadata": {},
     "output_type": "execute_result"
    }
   ],
   "source": [
    "X.shape"
   ]
  },
  {
   "cell_type": "code",
   "execution_count": 38,
   "metadata": {},
   "outputs": [],
   "source": [
    "w = np.ones([1,1])"
   ]
  },
  {
   "cell_type": "code",
   "execution_count": 39,
   "metadata": {},
   "outputs": [
    {
     "data": {
      "text/plain": [
       "array([[3.]])"
      ]
     },
     "execution_count": 39,
     "metadata": {},
     "output_type": "execute_result"
    }
   ],
   "source": [
    "X@w"
   ]
  },
  {
   "cell_type": "code",
   "execution_count": 40,
   "metadata": {},
   "outputs": [],
   "source": [
    "lm = linear_model()"
   ]
  },
  {
   "cell_type": "code",
   "execution_count": 41,
   "metadata": {},
   "outputs": [
    {
     "name": "stdout",
     "output_type": "stream",
     "text": [
      "the true value =  [[6]]\n",
      "the predicted value =  [[15.]]\n",
      "the total loss = -9.0\n",
      "the true value =  [[6]]\n",
      "the predicted value =  [[6.]]\n",
      "the total loss = 0.0\n",
      "9.0\n",
      "[[2.]]\n"
     ]
    }
   ],
   "source": [
    "lm.train(X,y)"
   ]
  },
  {
   "cell_type": "code",
   "execution_count": 42,
   "metadata": {},
   "outputs": [],
   "source": [
    "# so essentially the equation we have is\n",
    "\n",
    "# 2*X, this is our model, because this is basically what got us 6\n",
    "# let's see what if we try a new X, say for example 4, we expect the new y to be 8"
   ]
  },
  {
   "cell_type": "code",
   "execution_count": 43,
   "metadata": {},
   "outputs": [],
   "source": [
    "X_new = np.array([4])"
   ]
  },
  {
   "cell_type": "code",
   "execution_count": 44,
   "metadata": {},
   "outputs": [],
   "source": [
    "y = lm.predict(X_new)"
   ]
  },
  {
   "cell_type": "code",
   "execution_count": 45,
   "metadata": {},
   "outputs": [
    {
     "data": {
      "text/plain": [
       "array([8.])"
      ]
     },
     "execution_count": 45,
     "metadata": {},
     "output_type": "execute_result"
    }
   ],
   "source": [
    "y"
   ]
  },
  {
   "cell_type": "markdown",
   "metadata": {},
   "source": [
    "### let's now try equations for 2 variables\n",
    "\n",
    "\n",
    "- X1 = 2\n",
    "- X2 = 3\n",
    "\n",
    "- 2X1 + X2 = 7\n",
    "- 3X1 - X2 = 3\n",
    "\n",
    "> this is the equivelant of having 2 examples\n"
   ]
  },
  {
   "cell_type": "code",
   "execution_count": 46,
   "metadata": {},
   "outputs": [
    {
     "data": {
      "text/plain": [
       "array([[ 2,  1],\n",
       "       [ 3, -1]])"
      ]
     },
     "execution_count": 46,
     "metadata": {},
     "output_type": "execute_result"
    }
   ],
   "source": [
    "X = np.array([[2,1],\n",
    "             [3,-1]])\n",
    "X"
   ]
  },
  {
   "cell_type": "code",
   "execution_count": 47,
   "metadata": {},
   "outputs": [
    {
     "data": {
      "text/plain": [
       "array([[7],\n",
       "       [3]])"
      ]
     },
     "execution_count": 47,
     "metadata": {},
     "output_type": "execute_result"
    }
   ],
   "source": [
    "y = np.array([7,3]).reshape(2,1)\n",
    "y"
   ]
  },
  {
   "cell_type": "code",
   "execution_count": 48,
   "metadata": {},
   "outputs": [],
   "source": [
    "class linear_model:\n",
    "    def __init__(self):\n",
    "        pass\n",
    "    \n",
    "    def calc_loss(self,X,y,w):\n",
    "       \n",
    "        losses = []\n",
    "        y_predicted = np.zeros(len(X))\n",
    "       \n",
    "        \n",
    "        y_predicted = X@w\n",
    "        loss= y - y_predicted\n",
    "\n",
    "        print('the true value = ',y)\n",
    "        print('the predicted value = ',y_predicted)\n",
    "        losses.append(loss)\n",
    "        total_loss = np.sum(losses)\n",
    "        print('the total loss =', total_loss )\n",
    "        return total_loss\n",
    "      \n",
    "\n",
    "\n",
    "    def train(self,X,y):\n",
    "        w = np.ones([X.shape[1],1])\n",
    "        w[0] = 5\n",
    "        w[1] = 3\n",
    "        \n",
    "        loss_w = self.calc_loss(X,y,w)\n",
    "        while abs(loss_w) > 1:\n",
    "            for i in range(len(w)):\n",
    "                loss_w = self.calc_loss(X,y,w)\n",
    "\n",
    "                # the case when the loss is positive, in this case we need to decrease w\n",
    "\n",
    "                # we will choose the margin that we will accept as 0.5\n",
    "\n",
    "                if abs(loss_w)> 0:\n",
    "                    # since the equation is 3x =6 , then dw/dl = 3\n",
    "                    dldw = 1\n",
    "                elif abs(loss_w)< 0:\n",
    "                    dldw = -3\n",
    "                    # we will make the the learning rate is 0.5\n",
    "                lr =1\n",
    "                w[i]= w[i] -lr*dldw\n",
    "                loss_w_dash= self.calc_loss(X,y,w)\n",
    "                print(loss_w_dash - loss_w)\n",
    "                loss_w = loss_w_dash\n",
    "            \n",
    "            if abs(loss_w) < 5:\n",
    "                \n",
    "                self.w = w\n",
    "                \n",
    "                return self.w\n",
    "                print('converged to solution')\n",
    "                \n",
    "            else:\n",
    "                print('not converged')\n",
    "            \n",
    "            \n",
    "\n",
    "    def predict(self,X_new):\n",
    "        predicted_y = X_new@self.w\n",
    "        \n",
    "        return predicted_y"
   ]
  },
  {
   "cell_type": "code",
   "execution_count": 49,
   "metadata": {},
   "outputs": [],
   "source": [
    "lm = linear_model()"
   ]
  },
  {
   "cell_type": "code",
   "execution_count": 50,
   "metadata": {},
   "outputs": [
    {
     "name": "stdout",
     "output_type": "stream",
     "text": [
      "the true value =  [[7]\n",
      " [3]]\n",
      "the predicted value =  [[13.]\n",
      " [12.]]\n",
      "the total loss = -15.0\n",
      "the true value =  [[7]\n",
      " [3]]\n",
      "the predicted value =  [[13.]\n",
      " [12.]]\n",
      "the total loss = -15.0\n",
      "the true value =  [[7]\n",
      " [3]]\n",
      "the predicted value =  [[11.]\n",
      " [ 9.]]\n",
      "the total loss = -10.0\n",
      "5.0\n",
      "the true value =  [[7]\n",
      " [3]]\n",
      "the predicted value =  [[11.]\n",
      " [ 9.]]\n",
      "the total loss = -10.0\n",
      "the true value =  [[7]\n",
      " [3]]\n",
      "the predicted value =  [[10.]\n",
      " [10.]]\n",
      "the total loss = -10.0\n",
      "0.0\n",
      "not converged\n",
      "the true value =  [[7]\n",
      " [3]]\n",
      "the predicted value =  [[10.]\n",
      " [10.]]\n",
      "the total loss = -10.0\n",
      "the true value =  [[7]\n",
      " [3]]\n",
      "the predicted value =  [[8.]\n",
      " [7.]]\n",
      "the total loss = -5.0\n",
      "5.0\n",
      "the true value =  [[7]\n",
      " [3]]\n",
      "the predicted value =  [[8.]\n",
      " [7.]]\n",
      "the total loss = -5.0\n",
      "the true value =  [[7]\n",
      " [3]]\n",
      "the predicted value =  [[7.]\n",
      " [8.]]\n",
      "the total loss = -5.0\n",
      "0.0\n",
      "not converged\n",
      "the true value =  [[7]\n",
      " [3]]\n",
      "the predicted value =  [[7.]\n",
      " [8.]]\n",
      "the total loss = -5.0\n",
      "the true value =  [[7]\n",
      " [3]]\n",
      "the predicted value =  [[5.]\n",
      " [5.]]\n",
      "the total loss = 0.0\n",
      "5.0\n",
      "the true value =  [[7]\n",
      " [3]]\n",
      "the predicted value =  [[5.]\n",
      " [5.]]\n",
      "the total loss = 0.0\n",
      "the true value =  [[7]\n",
      " [3]]\n",
      "the predicted value =  [[4.]\n",
      " [6.]]\n",
      "the total loss = 0.0\n",
      "0.0\n"
     ]
    },
    {
     "data": {
      "text/plain": [
       "array([[2.],\n",
       "       [0.]])"
      ]
     },
     "execution_count": 50,
     "metadata": {},
     "output_type": "execute_result"
    }
   ],
   "source": [
    "lm.train(X,y)"
   ]
  },
  {
   "cell_type": "code",
   "execution_count": 51,
   "metadata": {},
   "outputs": [],
   "source": [
    "# even though this is not the correct value, but the tota loss is actually zero. I need to to solve this proble,"
   ]
  },
  {
   "cell_type": "code",
   "execution_count": 52,
   "metadata": {},
   "outputs": [],
   "source": [
    "#n the issue of losses cancelling themselves are a direct result of not taking the sum of the absolute value , which is L1"
   ]
  },
  {
   "cell_type": "code",
   "execution_count": 53,
   "metadata": {},
   "outputs": [],
   "source": [
    "# L1 loss"
   ]
  },
  {
   "cell_type": "code",
   "execution_count": 54,
   "metadata": {},
   "outputs": [
    {
     "name": "stdout",
     "output_type": "stream",
     "text": [
      "the true value =  [[7]\n",
      " [3]]\n",
      "the predicted value =  [[13.]\n",
      " [12.]]\n",
      "the total loss = -15.0\n",
      "the true value =  [[7]\n",
      " [3]]\n",
      "the predicted value =  [[13.]\n",
      " [12.]]\n",
      "the total loss = -15.0\n",
      "the true value =  [[7]\n",
      " [3]]\n",
      "the predicted value =  [[11.]\n",
      " [ 9.]]\n",
      "the total loss = -10.0\n",
      "5.0\n",
      "the true value =  [[7]\n",
      " [3]]\n",
      "the predicted value =  [[11.]\n",
      " [ 9.]]\n",
      "the total loss = -10.0\n",
      "the true value =  [[7]\n",
      " [3]]\n",
      "the predicted value =  [[10.]\n",
      " [10.]]\n",
      "the total loss = -10.0\n",
      "0.0\n",
      "not converged\n",
      "the true value =  [[7]\n",
      " [3]]\n",
      "the predicted value =  [[10.]\n",
      " [10.]]\n",
      "the total loss = -10.0\n",
      "the true value =  [[7]\n",
      " [3]]\n",
      "the predicted value =  [[8.]\n",
      " [7.]]\n",
      "the total loss = -5.0\n",
      "5.0\n",
      "the true value =  [[7]\n",
      " [3]]\n",
      "the predicted value =  [[8.]\n",
      " [7.]]\n",
      "the total loss = -5.0\n",
      "the true value =  [[7]\n",
      " [3]]\n",
      "the predicted value =  [[7.]\n",
      " [8.]]\n",
      "the total loss = -5.0\n",
      "0.0\n",
      "not converged\n",
      "the true value =  [[7]\n",
      " [3]]\n",
      "the predicted value =  [[7.]\n",
      " [8.]]\n",
      "the total loss = -5.0\n",
      "the true value =  [[7]\n",
      " [3]]\n",
      "the predicted value =  [[5.]\n",
      " [5.]]\n",
      "the total loss = 0.0\n",
      "5.0\n",
      "the true value =  [[7]\n",
      " [3]]\n",
      "the predicted value =  [[5.]\n",
      " [5.]]\n",
      "the total loss = 0.0\n",
      "the true value =  [[7]\n",
      " [3]]\n",
      "the predicted value =  [[4.]\n",
      " [6.]]\n",
      "the total loss = 0.0\n",
      "0.0\n"
     ]
    },
    {
     "data": {
      "text/plain": [
       "array([[2.],\n",
       "       [0.]])"
      ]
     },
     "execution_count": 54,
     "metadata": {},
     "output_type": "execute_result"
    }
   ],
   "source": [
    "lm.train(X,y)\n"
   ]
  },
  {
   "cell_type": "markdown",
   "metadata": {},
   "source": [
    "# wa hoooooooooo :)\n",
    "\n",
    "- The breakthrough was the fact hat I have to calculate dwdl once\n",
    "- Also making the condition of stopping not zero but at 0.05\n",
    "- And playing with the learning rate\n",
    "- Of course also th earlier realization that I need to calucalte L1 and not just sum th loss since they were cancelling each other."
   ]
  },
  {
   "cell_type": "code",
   "execution_count": 55,
   "metadata": {},
   "outputs": [],
   "source": [
    "# Batch vs stochastic"
   ]
  },
  {
   "cell_type": "markdown",
   "metadata": {},
   "source": [
    "while I was sleeping yesterday I was thinking about the calculation of gradients. More specifically I was thinking about how it is possible to calculate the gradient using one example, using some examples or all examples,or using all examples. The only difference will be in the way the loss is calculated. If only one example is included then we cacluate one loss, if n the the loss vectors, will have n rows each is associated with a loss, of course since we need only one number we will just take the mean of all losses. Note that we are calculatin the mean squared error using this methodology MAE. If we use L2. then we will be calculting the MSE."
   ]
  },
  {
   "cell_type": "code",
   "execution_count": 56,
   "metadata": {},
   "outputs": [],
   "source": [
    "# Using MSE"
   ]
  },
  {
   "cell_type": "code",
   "execution_count": 57,
   "metadata": {},
   "outputs": [],
   "source": [
    "class linear_model:\n",
    "    def __init__(self):\n",
    "        pass\n",
    "    \n",
    "    def calc_loss(self,X,y,w, loss_measure = 'MSE'):\n",
    "        \n",
    "        \n",
    "        \"\"\"\n",
    "        Calculating the loss or the deviation of the results we got from the model compared with the real values. The first step is to calculate the X@w which represents the results we got from\n",
    "        the model. The second step is to evaulate the loss which can be done through a loss function that we define. for example here we define two ways to caculate the loss either using MAE, in\n",
    "        which we first calculate the absolute difference between each predicted and true value and then we calucalte the mean. or using the MSW, in which we calculate the abolute difference between\n",
    "        true and preidcted value, square it and then find the average. The loss we then be returned.\n",
    "        \n",
    "        \"\"\"\n",
    "        \n",
    "       \n",
    "        losses = []\n",
    "        y_predicted = np.zeros(len(X))\n",
    "        y_predicted = X@w\n",
    "        \n",
    "        if loss_measure == 'MSE':\n",
    "            loss = (y - y_predicted)**2\n",
    "        elif loss_measure == 'MAE':\n",
    "            loss= abs(y - y_predicted)\n",
    "\n",
    "        #print('the true value = ',y)\n",
    "        #print('the predicted value = ',y_predicted)\n",
    "        losses.append(loss)\n",
    "        total_loss = np.mean(losses)\n",
    "        #print('the total loss =', total_loss )\n",
    "        return total_loss\n",
    "      \n",
    "\n",
    "\n",
    "    def train(self,X,y,loss_measure = 'MAE'):\n",
    "        #w = np.ones([X.shape[1],1])\n",
    "        np.random.seed(500)\n",
    "        w = np.random.rand(X.shape[1],1)\n",
    "        dldw = np.ones([X.shape[1],1])\n",
    "        dldw[0] = 0.02\n",
    "        dldw[1] = 0.02\n",
    "        w[0] = 3\n",
    "        w[1] = 3\n",
    "        print(w)\n",
    "        \n",
    "    # calculate the derivitives, this happen once, that was my mistake, I was including it in the for loop.\n",
    "\n",
    "        for i in range(len(w)):\n",
    "\n",
    "            # f(w)\n",
    "\n",
    "            loss_w = self.calc_loss(X,y,w,loss_measure = loss_measure)\n",
    "            # we will choose the margin that we will accept as 0.5\n",
    "\n",
    "            # f(w+h)\n",
    "\n",
    "            h = 0.005\n",
    "            w[i] = w[i] + h\n",
    "\n",
    "            # dldw = f(w+h) - f(w)/h\n",
    "            dldw[i] = (self.calc_loss(X,y,w,loss_measure = loss_measure) - loss_w)/h\n",
    "\n",
    "\n",
    "        print(dldw)   \n",
    "        \n",
    "        # updating the weight\n",
    "        \n",
    "        lr =0.005\n",
    "        \n",
    "        for i in range(20):\n",
    "            print('step',i)\n",
    "            loss_w = self.calc_loss(X,y,w)\n",
    "            print('loss is now',loss_w)\n",
    "            if loss_w <= 0.08 :\n",
    "                self.w = w\n",
    "                print('final w = ',self.w)\n",
    "                return self.w\n",
    "            elif loss_w > 0.08 :\n",
    "                w = w - lr*dldw\n",
    "#         for i in range(10):\n",
    "#             counter = counter + 1\n",
    "            \n",
    "#             print('loss = ',loss_w_dash)\n",
    "#             #print(loss_w_dash - loss_w)\n",
    "#             loss_w = loss_w_dash\n",
    "\n",
    "#             \n",
    "\n",
    "#                 return self.w\n",
    "                \n",
    "                \n",
    "\n",
    "    def predict(self,X_new):\n",
    "        predicted_y = X_new@self.w\n",
    "        \n",
    "        return predicted_y"
   ]
  },
  {
   "cell_type": "code",
   "execution_count": 58,
   "metadata": {},
   "outputs": [
    {
     "name": "stdout",
     "output_type": "stream",
     "text": [
      "[[3.]\n",
      " [3.]]\n",
      "[[13.0325]\n",
      " [-1.    ]]\n",
      "step 0\n",
      "loss is now 6.560162500000003\n",
      "step 1\n",
      "loss is now 5.7321160466406065\n",
      "step 2\n",
      "loss is now 4.9599711865624725\n",
      "step 3\n",
      "loss is now 4.243727919765584\n",
      "step 4\n",
      "loss is now 3.5833862462499555\n",
      "step 5\n",
      "loss is now 2.978946166015569\n",
      "step 6\n",
      "loss is now 2.4304076790624403\n",
      "step 7\n",
      "loss is now 1.9377707853905637\n",
      "step 8\n",
      "loss is now 1.501035484999939\n",
      "step 9\n",
      "loss is now 1.1202017778905646\n",
      "step 10\n",
      "loss is now 0.7952696640624431\n",
      "step 11\n",
      "loss is now 0.5262391435155735\n",
      "step 12\n",
      "loss is now 0.31311021624995605\n",
      "step 13\n",
      "loss is now 0.15588288226559058\n",
      "step 14\n",
      "loss is now 0.05455714156247709\n",
      "final w =  [[2.092725]\n",
      " [3.075   ]]\n"
     ]
    },
    {
     "data": {
      "text/plain": [
       "array([[2.092725],\n",
       "       [3.075   ]])"
      ]
     },
     "execution_count": 58,
     "metadata": {},
     "output_type": "execute_result"
    }
   ],
   "source": [
    "lm = linear_model()\n",
    "lm.train(X,y,loss_measure = 'MSE')"
   ]
  },
  {
   "cell_type": "code",
   "execution_count": 59,
   "metadata": {},
   "outputs": [],
   "source": [
    "X_2d_new = np.array([[2,3],\n",
    "                   [0,5]])"
   ]
  },
  {
   "cell_type": "code",
   "execution_count": 60,
   "metadata": {},
   "outputs": [
    {
     "data": {
      "text/plain": [
       "array([[13.41045],\n",
       "       [15.375  ]])"
      ]
     },
     "execution_count": 60,
     "metadata": {},
     "output_type": "execute_result"
    }
   ],
   "source": [
    "lm.predict(X_2d_new)"
   ]
  },
  {
   "cell_type": "code",
   "execution_count": 61,
   "metadata": {},
   "outputs": [],
   "source": [
    "# let's use the model we have trained for predicting the results for new data"
   ]
  },
  {
   "cell_type": "code",
   "execution_count": 62,
   "metadata": {},
   "outputs": [],
   "source": [
    "# The effect of initialzing weighhts with very smalll values. "
   ]
  },
  {
   "cell_type": "code",
   "execution_count": 63,
   "metadata": {},
   "outputs": [],
   "source": [
    "# ok, we know that dldw is basically how much the loss is affected when the weight is changed a little bit. Since the trajectory is not linear\n",
    "# we expect that dldw is not constant. But I basically makes it so in the above code."
   ]
  },
  {
   "cell_type": "markdown",
   "metadata": {},
   "source": [
    "I think now I started to grasp the idea of foward pass and backward pass.\n",
    "Where do we need the dldw, we need it when we want to update w. Now dldw is not constatnt because again , imagin that you are in this half-circle \n",
    "down. as you apprach the bottom the slopes acually goes dowm. I am going to do this for the above code."
   ]
  },
  {
   "cell_type": "code",
   "execution_count": 64,
   "metadata": {},
   "outputs": [],
   "source": [
    "class linear_model:\n",
    "    def __init__(self):\n",
    "        pass\n",
    "    \n",
    "\n",
    "    \n",
    "    def calc_loss(self,X,y,w, loss_measure = 'MSE'):\n",
    "        \n",
    "        \n",
    "        \"\"\"\n",
    "        Calculating the loss or the deviation of the results we got from the model compared with the real values. The first step is to calculate the X@w which represents the results we got from\n",
    "        the model. The second step is to evaulate the loss which can be done through a loss function that we define. for example here we define two ways to caculate the loss either using MAE, in\n",
    "        which we first calculate the absolute difference between each predicted and true value and then we calucalte the mean. or using the MSW, in which we calculate the abolute difference between\n",
    "        true and preidcted value, square it and then find the average. The loss we then be returned.\n",
    "        \n",
    "        \"\"\"    \n",
    "        losses = []\n",
    "        y_predicted = np.zeros(len(X))\n",
    "        y_predicted = X@w\n",
    "        \n",
    "        if loss_measure == 'MSE':\n",
    "            loss = (y - y_predicted)**2\n",
    "        elif loss_measure == 'MAE':\n",
    "            loss= abs(y - y_predicted)\n",
    "\n",
    "        #print('the true value = ',y)\n",
    "        #print('the predicted value = ',y_predicted)\n",
    "        losses.append(loss)\n",
    "        total_loss = np.mean(losses)\n",
    "        #print('the total loss =', total_loss )\n",
    "        return total_loss\n",
    "      \n",
    "\n",
    "    def diff(self,w,X,y, loss_measure,diff_type = 'Analytical'):\n",
    "        \"\"\"\n",
    "        given a function f(x) and a point w, calculate th f'(x)\n",
    "        \n",
    "        \"\"\"\n",
    "        dldw = np.ones([X.shape[1],1])\n",
    "        h = 0.005  \n",
    "        \n",
    "        if diff_type =='Numerical':\n",
    "            # calculate the derivitives dl/dw using limits\n",
    "            for i in range(len(w)):\n",
    "                print('i',i)\n",
    "                # f(w)\n",
    "                loss_w = self.calc_loss(X,y,w,loss_measure = loss_measure)\n",
    "                # we will choose the margin that we will accept as 0.5\n",
    "                # f(w+h)\n",
    "                w[i] = w[i] + h      \n",
    "                loss_w_plus_h = self.calc_loss(X,y,w,loss_measure = loss_measure)\n",
    "                # dldw = f(w+h) - f(w)/h\n",
    "                dldw[i] = (loss_w_plus_h- loss_w)/h\n",
    "                print('dldw using numerical solution')\n",
    "                print(dldw)\n",
    "        elif diff_type == 'Analytical':\n",
    "            # calculate the derivitves dl/dw using calculus\n",
    "            # l = (X.w - y)**2\n",
    "            # dl/dw = 2*(X.w - y)@X = 2*X@()\n",
    "\n",
    "            dldw = 2*X@(X@w - y)\n",
    "            print('dldw using analytical solution')\n",
    "            print(dldw)\n",
    "        return dldw \n",
    "    \n",
    "    def train(self,X,y,loss_measure = 'MAE', lr = 0.07, diff_type = 'Analytical'):\n",
    "        \"\"\"\n",
    "        training of the model is done by evaluting loss and updating the weights\n",
    "        \"\"\"\n",
    "        # initilization\n",
    "        np.random.seed(50)\n",
    "        w = np.random.rand(X.shape[1],1)\n",
    "        # intialization. I am changing this manually\n",
    "        #w[0] = \n",
    "        #w[1] = 3.5\n",
    "        print('initial weights')\n",
    "        print(w)    \n",
    "        # updating the weight     \n",
    "        #lr =0.07\n",
    "        \n",
    "        for i in range(30):\n",
    "            print('step =',i)\n",
    "            \n",
    "            # forward pass is essentially the process of calculting the loss given the data and the weight, for the loss we need to calculate a predicted value\n",
    "            # calculate the loss at the current weights\n",
    "            loss_w = self.calc_loss(X,y,w)\n",
    "            print('loss is now',loss_w)\n",
    "            # stoping condition, note that we don't require the loss is to be exactly zero but close enough\n",
    "            if loss_w <= 0.08 :\n",
    "                self.w = w\n",
    "                print('final w = ',self.w)\n",
    "                return self.w\n",
    "            \n",
    "            # updating the weight. \n",
    "            elif loss_w > 0.08 :\n",
    "                # the backpropagation is essentially the calculation of the partially derivives using chain rules. since we have only one layer at this time we will just calculate the dldw\n",
    "                #First at that particular point we calculate dldw \n",
    "                dldw = self.diff(w,X,y,loss_measure, diff_type)\n",
    "                # Now we update the weight\n",
    "                w = w -lr*dldw\n",
    "                print('w')\n",
    "                print(w)          \n",
    "    def predict(self,X_new):\n",
    "        \"\"\"\n",
    "        Given a new data, the model will be using the weights stored in the self.w to produce a prediction\n",
    "        \"\"\"\n",
    "        predicted_y = X_new@self.w\n",
    "        \n",
    "        return predicted_y"
   ]
  },
  {
   "cell_type": "code",
   "execution_count": 65,
   "metadata": {},
   "outputs": [
    {
     "name": "stdout",
     "output_type": "stream",
     "text": [
      "initial weights\n",
      "[[0.49460165]\n",
      " [0.2280831 ]]\n",
      "step = 0\n",
      "loss is now 18.241141479081318\n",
      "dldw using analytical solution\n",
      "[[-26.61941075]\n",
      " [-31.20772529]]\n",
      "w\n",
      "[[2.62415451]\n",
      " [2.72470113]]\n",
      "step = 1\n",
      "loss is now 2.7798160070416325\n",
      "dldw using analytical solution\n",
      "[[8.18756534]\n",
      " [1.54253606]]\n",
      "w\n",
      "[[1.96914928]\n",
      " [2.60129824]]\n",
      "step = 2\n",
      "loss is now 0.1528493396307682\n",
      "dldw using analytical solution\n",
      "[[-1.22931361]\n",
      " [-3.37471838]]\n",
      "w\n",
      "[[2.06749437]\n",
      " [2.87127571]]\n",
      "step = 3\n",
      "loss is now 0.054868788984643146\n",
      "final w =  [[2.06749437]\n",
      " [2.87127571]]\n"
     ]
    },
    {
     "data": {
      "text/plain": [
       "array([[2.06749437],\n",
       "       [2.87127571]])"
      ]
     },
     "execution_count": 65,
     "metadata": {},
     "output_type": "execute_result"
    }
   ],
   "source": [
    "lm = linear_model()\n",
    "lm.train(X,y,loss_measure = 'MSE', lr = 0.08,diff_type = 'Analytical')"
   ]
  },
  {
   "cell_type": "code",
   "execution_count": 66,
   "metadata": {},
   "outputs": [
    {
     "data": {
      "text/plain": [
       "array([[12.74881588],\n",
       "       [14.35637857]])"
      ]
     },
     "execution_count": 66,
     "metadata": {},
     "output_type": "execute_result"
    }
   ],
   "source": [
    "lm.predict(X_2d_new)"
   ]
  },
  {
   "cell_type": "code",
   "execution_count": 67,
   "metadata": {},
   "outputs": [],
   "source": [
    "# my thought process during building the model from scratch"
   ]
  },
  {
   "cell_type": "markdown",
   "metadata": {},
   "source": [
    "- note that weight in the first dimention X[0] is being updated correctly, when I initialize with weight that is bigger than the correct once, the weight goes down, and when I initialize with \n",
    "a weight that is smaller than the correct weight then the weight will go up. But, for some reason there is almost no movement in the second dimention, X[1], the quetion is why ?I alreay tried initializing with a different set of values, but still there is no movements.\n"
   ]
  },
  {
   "cell_type": "markdown",
   "metadata": {},
   "source": [
    "- I guess the solution deponds on how X1 and X2 affect f(x) and hence the loss function. It seems that if we change w a bit in X1 direction, the loss will be affected significantly, but if we \n",
    "change w in the X2 direction, then the loss will be affected that much hence the slow conversion to the correct values of w."
   ]
  },
  {
   "cell_type": "markdown",
   "metadata": {},
   "source": [
    "# More than one Layer"
   ]
  },
  {
   "cell_type": "code",
   "execution_count": null,
   "metadata": {},
   "outputs": [],
   "source": []
  },
  {
   "cell_type": "code",
   "execution_count": 68,
   "metadata": {},
   "outputs": [],
   "source": [
    "class linear_model:\n",
    "    def __init__(self):\n",
    "        pass\n",
    "    \n",
    "    \n",
    "    def sigmoid(self,z):\n",
    "        return 1/(1+np.exp(-z))\n",
    "\n",
    "    def sigmoid_grad(self,z):\n",
    "        return self.sigmoid(z) * 1-self.sigmoid(z)\n",
    "    \n",
    "    \n",
    "    def calc_loss(self,X,y,w, loss_measure = 'MSE'):\n",
    "        \n",
    "        \n",
    "        \"\"\"\n",
    "        Calculating the loss or the deviation of the results we got from the model compared with the real values. The first step is to calculate the X@w which represents the results we got from\n",
    "        the model. The second step is to evaulate the loss which can be done through a loss function that we define. for example here we define two ways to caculate the loss either using MAE, in\n",
    "        which we first calculate the absolute difference between each predicted and true value and then we calucalte the mean. or using the MSW, in which we calculate the abolute difference between\n",
    "        true and preidcted value, square it and then find the average. The loss we then be returned.\n",
    "        \n",
    "        \"\"\"    \n",
    "        losses = []\n",
    "        z = X@w\n",
    "        #y_predicted = z\n",
    "        y_predicted = self.sigmoid(z)\n",
    "        \n",
    "        \n",
    "        \n",
    "        \n",
    "        if loss_measure == 'MSE':\n",
    "            loss = (y - y_predicted)**2\n",
    "        elif loss_measure == 'MAE':\n",
    "            loss= abs(y - y_predicted)\n",
    "\n",
    "        #print('the true value = ',y)\n",
    "        #print('the predicted value = ',y_predicted)\n",
    "        losses.append(loss)\n",
    "        total_loss = np.mean(losses)\n",
    "        #print('the total loss =', total_loss )\n",
    "        return total_loss\n",
    "      \n",
    "\n",
    "    def diff(self,w,X,y, loss_measure,diff_type = 'Analytical'):\n",
    "        \"\"\"\n",
    "        given a function f(x) and a point w, calculate th f'(x)\n",
    "        \n",
    "        \"\"\"\n",
    "        dldw = np.ones([X.shape[1],1])\n",
    "        h = 0.005  \n",
    "        \n",
    "        if diff_type =='Numerical':\n",
    "            # calculate the derivitives dl/dw using limits\n",
    "            for i in range(len(w)):\n",
    "                print('i',i)\n",
    "                # f(w)\n",
    "                loss_w = self.calc_loss(X,y,w,loss_measure = loss_measure)\n",
    "                # we will choose the margin that we will accept as 0.5\n",
    "                # f(w+h)\n",
    "                w[i] = w[i] + h      \n",
    "                loss_w_plus_h = self.calc_loss(X,y,w,loss_measure = loss_measure)\n",
    "                # dldw = f(w+h) - f(w)/h\n",
    "                dldw[i] = (loss_w_plus_h- loss_w)/h\n",
    "                print('dldw using numerical solution')\n",
    "                print(dldw)\n",
    "        elif diff_type == 'Analytical':\n",
    "            # calculate the derivitves dl/dw using calculus\n",
    "            # l = (X.w - y)**2\n",
    "            # dl/dw = 2*(X.w - y)@X = 2*X@()\n",
    "            \n",
    "            z = X@w\n",
    "            \n",
    "            print('sigmpod_grad = ',self.sigmoid_grad(z))\n",
    "            \n",
    "            dldw = 2*X@(z - y)\n",
    "            print('dldw using analytical solution')\n",
    "            print(dldw)\n",
    "        return dldw \n",
    "    \n",
    "    def train(self,X,y,loss_measure = 'MAE', lr = 0.07, diff_type = 'Analytical'):\n",
    "        \"\"\"\n",
    "        training of the model is done by evaluting loss and updating the weights\n",
    "        \"\"\"\n",
    "        # initilization\n",
    "        np.random.seed(50)\n",
    "        w = np.random.rand(X.shape[1],1)\n",
    "        # intialization. I am changing this manually\n",
    "        #w[0] = \n",
    "        #w[1] = 3.5\n",
    "        print('initial weights')\n",
    "        print(w)    \n",
    "        # updating the weight     \n",
    "        #lr =0.07\n",
    "        \n",
    "        for i in range(30):\n",
    "            print('step =',i)\n",
    "            \n",
    "            # forward pass is essentially the process of calculting the loss given the data and the weight, for the loss we need to calculate a predicted value\n",
    "            # calculate the loss at the current weights\n",
    "            loss_w = self.calc_loss(X,y,w)\n",
    "            print('loss is now',loss_w)\n",
    "            # stoping condition, note that we don't require the loss is to be exactly zero but close enough\n",
    "            if loss_w <= 0.08 :\n",
    "                self.w = w\n",
    "                print('final w = ',self.w)\n",
    "                return self.w\n",
    "            \n",
    "            # updating the weight. \n",
    "            elif loss_w > 0.08 :\n",
    "                # the backpropagation is essentially the calculation of the partially derivives using chain rules. since we have only one layer at this time we will just calculate the dldw\n",
    "                #First at that particular point we calculate dldw \n",
    "                dldw = self.diff(w,X,y,loss_measure, diff_type)\n",
    "                # Now we update the weight\n",
    "                w = w -lr*dldw\n",
    "                print('w')\n",
    "                print(w)          \n",
    "    def predict(self,X_new):\n",
    "        \"\"\"\n",
    "        Given a new data, the model will be using the weights stored in the self.w to produce a prediction\n",
    "        \"\"\"\n",
    "        predicted_y = X_new@self.w\n",
    "        \n",
    "        return predicted_y"
   ]
  },
  {
   "cell_type": "code",
   "execution_count": 69,
   "metadata": {},
   "outputs": [
    {
     "name": "stdout",
     "output_type": "stream",
     "text": [
      "initial weights\n",
      "[[0.49460165]\n",
      " [0.2280831 ]]\n",
      "step = 0\n",
      "loss is now 21.86457304319812\n",
      "sigmpod_grad =  [[0.]\n",
      " [0.]]\n",
      "dldw using analytical solution\n",
      "[[-26.61941075]\n",
      " [-31.20772529]]\n",
      "w\n",
      "[[2.62415451]\n",
      " [2.72470113]]\n",
      "step = 1\n",
      "loss is now 20.013641498984054\n",
      "sigmpod_grad =  [[0.]\n",
      " [0.]]\n",
      "dldw using analytical solution\n",
      "[[8.18756534]\n",
      " [1.54253606]]\n",
      "w\n",
      "[[1.96914928]\n",
      " [2.60129824]]\n",
      "step = 2\n",
      "loss is now 20.08000579699743\n",
      "sigmpod_grad =  [[0.]\n",
      " [0.]]\n",
      "dldw using analytical solution\n",
      "[[-1.22931361]\n",
      " [-3.37471838]]\n",
      "w\n",
      "[[2.06749437]\n",
      " [2.87127571]]\n",
      "step = 3\n",
      "loss is now 20.075060231466576\n",
      "sigmpod_grad =  [[0.]\n",
      " [0.]]\n",
      "dldw using analytical solution\n",
      "[[ 0.68747257]\n",
      " [-0.62482808]]\n",
      "w\n",
      "[[2.01249656]\n",
      " [2.92126196]]\n",
      "step = 4\n",
      "loss is now 20.091554636108313\n",
      "sigmpod_grad =  [[0.]\n",
      " [0.]]\n",
      "dldw using analytical solution\n",
      "[[ 0.01747578]\n",
      " [-0.55492495]]\n",
      "w\n",
      "[[2.0110985 ]\n",
      " [2.96565596]]\n",
      "step = 5\n",
      "loss is now 20.09544591859577\n",
      "sigmpod_grad =  [[0.]\n",
      " [0.]]\n",
      "dldw using analytical solution\n",
      "[[ 0.0866909 ]\n",
      " [-0.20816136]]\n",
      "w\n",
      "[[2.00416323]\n",
      " [2.98230886]]\n",
      "step = 6\n",
      "loss is now 20.098741593338783\n",
      "sigmpod_grad =  [[0.]\n",
      " [0.]]\n",
      "dldw using analytical solution\n",
      "[[ 0.02290291]\n",
      " [-0.11654972]]\n",
      "w\n",
      "[[2.00233099]\n",
      " [2.99163284]]\n",
      "step = 7\n",
      "loss is now 20.100052674760263\n",
      "sigmpod_grad =  [[0.]\n",
      " [0.]]\n",
      "dldw using analytical solution\n",
      "[[ 0.01589961]\n",
      " [-0.0529513 ]]\n",
      "w\n",
      "[[2.00105903]\n",
      " [2.99586895]]\n",
      "step = 8\n",
      "loss is now 20.100780395207867\n",
      "sigmpod_grad =  [[0.]\n",
      " [0.]]\n",
      "dldw using analytical solution\n",
      "[[ 0.00656425]\n",
      " [-0.02669428]]\n",
      "w\n",
      "[[2.00053389]\n",
      " [2.99800449]]\n",
      "step = 9\n",
      "loss is now 20.101115976167115\n",
      "sigmpod_grad =  [[0.]\n",
      " [0.]]\n",
      "dldw using analytical solution\n",
      "[[ 0.00348337]\n",
      " [-0.01276078]]\n",
      "w\n",
      "[[2.00025522]\n",
      " [2.99902535]]\n",
      "step = 10\n",
      "loss is now 20.10128477107667\n",
      "sigmpod_grad =  [[0.]\n",
      " [0.]]\n",
      "dldw using analytical solution\n",
      "[[ 0.00162372]\n",
      " [-0.0062659 ]]\n",
      "w\n",
      "[[2.00012532]\n",
      " [2.99952662]]\n",
      "step = 11\n",
      "loss is now 20.101365763327166\n",
      "sigmpod_grad =  [[0.]\n",
      " [0.]]\n",
      "dldw using analytical solution\n",
      "[[ 0.0008077 ]\n",
      " [-0.00303511]]\n",
      "w\n",
      "[[2.0000607 ]\n",
      " [2.99976943]]\n",
      "step = 12\n",
      "loss is now 20.101405508121182\n",
      "sigmpod_grad =  [[0.]\n",
      " [0.]]\n",
      "dldw using analytical solution\n",
      "[[ 0.00038869]\n",
      " [-0.00148033]]\n",
      "w\n",
      "[[2.00002961]\n",
      " [2.99988786]]\n",
      "step = 13\n",
      "loss is now 20.101424777961373\n",
      "sigmpod_grad =  [[0.]\n",
      " [0.]]\n",
      "dldw using analytical solution\n",
      "[[ 0.00019021]\n",
      " [-0.00071949]]\n",
      "w\n",
      "[[2.00001439]\n",
      " [2.99994542]]\n",
      "step = 14\n",
      "loss is now 20.101434174960538\n",
      "sigmpod_grad =  [[0.]\n",
      " [0.]]\n",
      "dldw using analytical solution\n",
      "[[ 9.22937282e-05]\n",
      " [-3.50318582e-04]]\n",
      "w\n",
      "[[2.00000701]\n",
      " [2.99997344]]\n",
      "step = 15\n",
      "loss is now 20.10143874329717\n",
      "sigmpod_grad =  [[0.]\n",
      " [0.]]\n",
      "dldw using analytical solution\n",
      "[[ 4.49757258e-05]\n",
      " [-1.70415679e-04]]\n",
      "w\n",
      "[[2.00000341]\n",
      " [2.99998708]]\n",
      "step = 16\n",
      "loss is now 20.10144096749816\n",
      "sigmpod_grad =  [[0.]\n",
      " [0.]]\n",
      "dldw using analytical solution\n",
      "[[ 2.18694216e-05]\n",
      " [-8.29379929e-05]]\n",
      "w\n",
      "[[2.00000166]\n",
      " [2.99999371]]\n",
      "step = 17\n",
      "loss is now 20.101442049544726\n",
      "sigmpod_grad =  [[0.]\n",
      " [0.]]\n",
      "dldw using analytical solution\n",
      "[[ 1.06457483e-05]\n",
      " [-4.03549998e-05]]\n",
      "w\n",
      "[[2.00000081]\n",
      " [2.99999694]]\n",
      "step = 18\n",
      "loss is now 20.10144257614901\n",
      "sigmpod_grad =  [[0.]\n",
      " [0.]]\n",
      "dldw using analytical solution\n",
      "[[ 5.17931017e-06]\n",
      " [-1.96377591e-05]]\n",
      "w\n",
      "[[2.00000039]\n",
      " [2.99999851]]\n",
      "step = 19\n",
      "loss is now 20.10144283238175\n",
      "sigmpod_grad =  [[0.]\n",
      " [0.]]\n",
      "dldw using analytical solution\n",
      "[[ 2.52052424e-06]\n",
      " [-9.55566216e-06]]\n",
      "w\n",
      "[[2.00000019]\n",
      " [2.99999928]]\n",
      "step = 20\n",
      "loss is now 20.10144295707063\n",
      "sigmpod_grad =  [[0.]\n",
      " [0.]]\n",
      "dldw using analytical solution\n",
      "[[ 1.22644303e-06]\n",
      " [-4.64989002e-06]]\n",
      "w\n",
      "[[2.00000009]\n",
      " [2.99999965]]\n",
      "step = 21\n",
      "loss is now 20.101443017744003\n",
      "sigmpod_grad =  [[0.]\n",
      " [0.]]\n",
      "dldw using analytical solution\n",
      "[[ 5.96809239e-07]\n",
      " [-2.26265306e-06]]\n",
      "w\n",
      "[[2.00000005]\n",
      " [2.99999983]]\n",
      "step = 22\n",
      "loss is now 20.10144304726831\n",
      "sigmpod_grad =  [[0.]\n",
      " [0.]]\n",
      "dldw using analytical solution\n",
      "[[ 2.90407376e-07]\n",
      " [-1.10102354e-06]]\n",
      "w\n",
      "[[2.00000002]\n",
      " [2.99999992]]\n",
      "step = 23\n",
      "loss is now 20.101443061634953\n",
      "sigmpod_grad =  [[0.]\n",
      " [0.]]\n",
      "dldw using analytical solution\n",
      "[[ 1.41314882e-07]\n",
      " [-5.35764013e-07]]\n",
      "w\n",
      "[[2.00000001]\n",
      " [2.99999996]]\n",
      "step = 24\n",
      "loss is now 20.10144306862587\n",
      "sigmpod_grad =  [[0.]\n",
      " [0.]]\n",
      "dldw using analytical solution\n",
      "[[ 6.87644555e-08]\n",
      " [-2.60706189e-07]]\n",
      "w\n",
      "[[2.00000001]\n",
      " [2.99999998]]\n",
      "step = 25\n",
      "loss is now 20.101443072027685\n",
      "sigmpod_grad =  [[0.]\n",
      " [0.]]\n",
      "dldw using analytical solution\n",
      "[[ 3.34612551e-08]\n",
      " [-1.26861165e-07]]\n",
      "w\n",
      "[[2.        ]\n",
      " [2.99999999]]\n",
      "step = 26\n",
      "loss is now 20.10144307368303\n",
      "sigmpod_grad =  [[0.]\n",
      " [0.]]\n",
      "dldw using analytical solution\n",
      "[[ 1.62824350e-08]\n",
      " [-6.17314218e-08]]\n",
      "w\n",
      "[[2.]\n",
      " [3.]]\n",
      "step = 27\n",
      "loss is now 20.101443074488532\n",
      "sigmpod_grad =  [[0.]\n",
      " [0.]]\n",
      "dldw using analytical solution\n",
      "[[ 7.92313415e-09]\n",
      " [-3.00388834e-08]]\n",
      "w\n",
      "[[2.]\n",
      " [3.]]\n",
      "step = 28\n",
      "loss is now 20.101443074880496\n",
      "sigmpod_grad =  [[0.]\n",
      " [0.]]\n",
      "dldw using analytical solution\n",
      "[[ 3.85544396e-09]\n",
      " [-1.46171022e-08]]\n",
      "w\n",
      "[[2.]\n",
      " [3.]]\n",
      "step = 29\n",
      "loss is now 20.101443075071227\n",
      "sigmpod_grad =  [[0.]\n",
      " [0.]]\n",
      "dldw using analytical solution\n",
      "[[ 1.87608595e-09]\n",
      " [-7.11276815e-09]]\n",
      "w\n",
      "[[2.]\n",
      " [3.]]\n"
     ]
    }
   ],
   "source": [
    "lm = linear_model()\n",
    "lm.train(X,y,loss_measure = 'MSE', lr = 0.08,diff_type = 'Analytical')"
   ]
  },
  {
   "cell_type": "code",
   "execution_count": 70,
   "metadata": {},
   "outputs": [],
   "source": [
    "# it's amazing how we got exactly the right answer just by applying the sigmoid function and even wituout including the derivitive of sigmoid in the backpropagation. "
   ]
  },
  {
   "cell_type": "code",
   "execution_count": 71,
   "metadata": {},
   "outputs": [
    {
     "data": {
      "text/plain": [
       "array([[ 2,  1],\n",
       "       [ 3, -1]])"
      ]
     },
     "execution_count": 71,
     "metadata": {},
     "output_type": "execute_result"
    }
   ],
   "source": [
    "X"
   ]
  },
  {
   "cell_type": "code",
   "execution_count": 72,
   "metadata": {},
   "outputs": [
    {
     "data": {
      "text/plain": [
       "array([[7],\n",
       "       [3]])"
      ]
     },
     "execution_count": 72,
     "metadata": {},
     "output_type": "execute_result"
    }
   ],
   "source": [
    "y"
   ]
  },
  {
   "cell_type": "markdown",
   "metadata": {},
   "source": [
    "2X1 + X2 = 7\n",
    "\n",
    "3X1 - X2 = 3"
   ]
  },
  {
   "cell_type": "markdown",
   "metadata": {},
   "source": [
    "X1 = 2, X2 = 3"
   ]
  },
  {
   "cell_type": "markdown",
   "metadata": {},
   "source": [
    "Ok, what if X1 =4, X2= 6\n",
    "\n",
    "then y = [14,6]"
   ]
  },
  {
   "cell_type": "code",
   "execution_count": 73,
   "metadata": {},
   "outputs": [],
   "source": [
    "y[0][0] = 14\n"
   ]
  },
  {
   "cell_type": "code",
   "execution_count": 74,
   "metadata": {},
   "outputs": [],
   "source": [
    "y[1][0] = 6"
   ]
  },
  {
   "cell_type": "code",
   "execution_count": 75,
   "metadata": {},
   "outputs": [
    {
     "data": {
      "text/plain": [
       "array([[ 2,  1],\n",
       "       [ 3, -1]])"
      ]
     },
     "execution_count": 75,
     "metadata": {},
     "output_type": "execute_result"
    }
   ],
   "source": [
    "X"
   ]
  },
  {
   "cell_type": "code",
   "execution_count": 76,
   "metadata": {},
   "outputs": [
    {
     "data": {
      "text/plain": [
       "array([[14],\n",
       "       [ 6]])"
      ]
     },
     "execution_count": 76,
     "metadata": {},
     "output_type": "execute_result"
    }
   ],
   "source": [
    "y"
   ]
  },
  {
   "cell_type": "code",
   "execution_count": 77,
   "metadata": {},
   "outputs": [
    {
     "name": "stdout",
     "output_type": "stream",
     "text": [
      "initial weights\n",
      "[[0.49460165]\n",
      " [0.2280831 ]]\n",
      "step = 0\n",
      "loss is now 101.1286071748941\n",
      "sigmpod_grad =  [[0.]\n",
      " [0.]]\n",
      "dldw using analytical solution\n",
      "[[-60.61941075]\n",
      " [-67.20772529]]\n",
      "w\n",
      "[[5.34415451]\n",
      " [5.60470113]]\n",
      "step = 1\n",
      "loss is now 97.00014908356842\n",
      "sigmpod_grad =  [[0.]\n",
      " [0.]]\n",
      "dldw using analytical solution\n",
      "[[18.02756534]\n",
      " [ 4.90253606]]\n",
      "w\n",
      "[[3.90194928]\n",
      " [5.21249824]]\n",
      "step = 2\n",
      "loss is now 97.00758596749306\n",
      "sigmpod_grad =  [[0.]\n",
      " [0.]]\n",
      "dldw using analytical solution\n",
      "[[-2.94771361]\n",
      " [-6.88831838]]\n",
      "w\n",
      "[[4.13776637]\n",
      " [5.76356371]]\n",
      "step = 3\n",
      "loss is now 97.0064746876639\n",
      "sigmpod_grad =  [[0.]\n",
      " [0.]]\n",
      "dldw using analytical solution\n",
      "[[ 1.45585657]\n",
      " [-1.06489208]]\n",
      "w\n",
      "[[4.02129784]\n",
      " [5.84875508]]\n",
      "step = 4\n",
      "loss is now 97.00998879944528\n",
      "sigmpod_grad =  [[0.]\n",
      " [0.]]\n",
      "dldw using analytical solution\n",
      "[[-0.00432006]\n",
      " [-1.08217231]]\n",
      "w\n",
      "[[4.02164345]\n",
      " [5.93532886]]\n",
      "step = 5\n",
      "loss is now 97.01087699175652\n",
      "sigmpod_grad =  [[0.]\n",
      " [0.]]\n",
      "dldw using analytical solution\n",
      "[[ 0.17366598]\n",
      " [-0.3875084 ]]\n",
      "w\n",
      "[[4.00775017]\n",
      " [5.96632954]]\n",
      "step = 6\n",
      "loss is now 97.0116943837374\n",
      "sigmpod_grad =  [[0.]\n",
      " [0.]]\n",
      "dldw using analytical solution\n",
      "[[ 0.04116143]\n",
      " [-0.22286269]]\n",
      "w\n",
      "[[4.00445725]\n",
      " [5.98415855]]\n",
      "step = 7\n",
      "loss is now 97.01202179760583\n",
      "sigmpod_grad =  [[0.]\n",
      " [0.]]\n",
      "dldw using analytical solution\n",
      "[[ 0.03071866]\n",
      " [-0.09998805]]\n",
      "w\n",
      "[[4.00199976]\n",
      " [5.9921576 ]]\n",
      "step = 8\n",
      "loss is now 97.01220740791618\n",
      "sigmpod_grad =  [[0.]\n",
      " [0.]]\n",
      "dldw using analytical solution\n",
      "[[ 0.01231185]\n",
      " [-0.05074066]]\n",
      "w\n",
      "[[4.00101481]\n",
      " [5.99621685]]\n",
      "step = 9\n",
      "loss is now 97.01229304400893\n",
      "sigmpod_grad =  [[0.]\n",
      " [0.]]\n",
      "dldw using analytical solution\n",
      "[[ 0.00664108]\n",
      " [-0.02417632]]\n",
      "w\n",
      "[[4.00048353]\n",
      " [5.99815096]]\n",
      "step = 10\n",
      "loss is now 97.0123363460273\n",
      "sigmpod_grad =  [[0.]\n",
      " [0.]]\n",
      "dldw using analytical solution\n",
      "[[ 0.00307128]\n",
      " [-0.0118912 ]]\n",
      "w\n",
      "[[4.00023782]\n",
      " [5.99910225]]\n",
      "step = 11\n",
      "loss is now 97.0123571228022\n",
      "sigmpod_grad =  [[0.]\n",
      " [0.]]\n",
      "dldw using analytical solution\n",
      "[[ 0.00153404]\n",
      " [-0.00575505]]\n",
      "w\n",
      "[[4.0001151 ]\n",
      " [5.99956265]]\n",
      "step = 12\n",
      "loss is now 97.01236733176773\n",
      "sigmpod_grad =  [[0.]\n",
      " [0.]]\n",
      "dldw using analytical solution\n",
      "[[ 0.00073672]\n",
      " [-0.00280815]]\n",
      "w\n",
      "[[4.00005616]\n",
      " [5.99978731]]\n",
      "step = 13\n",
      "loss is now 97.01237228128923\n",
      "sigmpod_grad =  [[0.]\n",
      " [0.]]\n",
      "dldw using analytical solution\n",
      "[[ 0.0003609 ]\n",
      " [-0.00136456]]\n",
      "w\n",
      "[[4.00002729]\n",
      " [5.99989647]]\n",
      "step = 14\n",
      "loss is now 97.01237469571868\n",
      "sigmpod_grad =  [[0.]\n",
      " [0.]]\n",
      "dldw using analytical solution\n",
      "[[ 0.00017502]\n",
      " [-0.00066447]]\n",
      "w\n",
      "[[4.00001329]\n",
      " [5.99994963]]\n",
      "step = 15\n",
      "loss is now 97.01237586947097\n",
      "sigmpod_grad =  [[0.]\n",
      " [0.]]\n",
      "dldw using analytical solution\n",
      "[[ 8.53131031e-05]\n",
      " [-3.23221179e-04]]\n",
      "w\n",
      "[[4.00000646]\n",
      " [5.99997549]]\n",
      "step = 16\n",
      "loss is now 97.01237644098532\n",
      "sigmpod_grad =  [[0.]\n",
      " [0.]]\n",
      "dldw using analytical solution\n",
      "[[ 4.14778163e-05]\n",
      " [-1.57309914e-04]]\n",
      "w\n",
      "[[4.00000315]\n",
      " [5.99998807]]\n",
      "step = 17\n",
      "loss is now 97.01237671901848\n",
      "sigmpod_grad =  [[0.]\n",
      " [0.]]\n",
      "dldw using analytical solution\n",
      "[[ 2.01922483e-05]\n",
      " [-7.65409208e-05]]\n",
      "w\n",
      "[[4.00000153]\n",
      " [5.9999942 ]]\n",
      "step = 18\n",
      "loss is now 97.01237685433277\n",
      "sigmpod_grad =  [[0.]\n",
      " [0.]]\n",
      "dldw using analytical solution\n",
      "[[ 9.82347754e-06]\n",
      " [-3.72470107e-05]]\n",
      "w\n",
      "[[4.00000074]\n",
      " [5.99999718]]\n",
      "step = 19\n",
      "loss is now 97.01237692017327\n",
      "sigmpod_grad =  [[0.]\n",
      " [0.]]\n",
      "dldw using analytical solution\n",
      "[[ 4.78070440e-06]\n",
      " [-1.81241931e-05]]\n",
      "w\n",
      "[[4.00000036]\n",
      " [5.99999863]]\n",
      "step = 20\n",
      "loss is now 97.01237695221295\n",
      "sigmpod_grad =  [[0.]\n",
      " [0.]]\n",
      "dldw using analytical solution\n",
      "[[ 2.32618636e-06]\n",
      " [-8.81944761e-06]]\n",
      "w\n",
      "[[4.00000018]\n",
      " [5.99999933]]\n",
      "step = 21\n",
      "loss is now 97.01237696780342\n",
      "sigmpod_grad =  [[0.]\n",
      " [0.]]\n",
      "dldw using analytical solution\n",
      "[[ 1.13196926e-06]\n",
      " [-4.29157059e-06]]\n",
      "w\n",
      "[[4.00000009]\n",
      " [5.99999967]]\n",
      "step = 22\n",
      "loss is now 97.01237697538988\n",
      "sigmpod_grad =  [[0.]\n",
      " [0.]]\n",
      "dldw using analytical solution\n",
      "[[ 5.50814979e-07]\n",
      " [-2.08831066e-06]]\n",
      "w\n",
      "[[4.00000004]\n",
      " [5.99999984]]\n",
      "step = 23\n",
      "loss is now 97.01237697908152\n",
      "sigmpod_grad =  [[0.]\n",
      " [0.]]\n",
      "dldw using analytical solution\n",
      "[[ 2.68031902e-07]\n",
      " [-1.01618303e-06]]\n",
      "w\n",
      "[[4.00000002]\n",
      " [5.99999992]]\n",
      "step = 24\n",
      "loss is now 97.0123769808779\n",
      "sigmpod_grad =  [[0.]\n",
      " [0.]]\n",
      "dldw using analytical solution\n",
      "[[ 1.30425443e-07]\n",
      " [-4.94481215e-07]]\n",
      "w\n",
      "[[4.00000001]\n",
      " [5.99999996]]\n",
      "step = 25\n",
      "loss is now 97.01237698175201\n",
      "sigmpod_grad =  [[0.]\n",
      " [0.]]\n",
      "dldw using analytical solution\n",
      "[[ 6.34659347e-08]\n",
      " [-2.40617455e-07]]\n",
      "w\n",
      "[[4.        ]\n",
      " [5.99999998]]\n",
      "step = 26\n",
      "loss is now 97.01237698217736\n",
      "sigmpod_grad =  [[0.]\n",
      " [0.]]\n",
      "dldw using analytical solution\n",
      "[[ 3.08828856e-08]\n",
      " [-1.17085930e-07]]\n",
      "w\n",
      "[[4.        ]\n",
      " [5.99999999]]\n",
      "step = 27\n",
      "loss is now 97.01237698238434\n",
      "sigmpod_grad =  [[0.]\n",
      " [0.]]\n",
      "dldw using analytical solution\n",
      "[[ 1.50278083e-08]\n",
      " [-5.69747165e-08]]\n",
      "w\n",
      "[[4.]\n",
      " [6.]]\n",
      "step = 28\n",
      "loss is now 97.01237698248505\n",
      "sigmpod_grad =  [[0.]\n",
      " [0.]]\n",
      "dldw using analytical solution\n",
      "[[ 7.31261096e-09]\n",
      " [-2.77242478e-08]]\n",
      "w\n",
      "[[4.]\n",
      " [6.]]\n",
      "step = 29\n",
      "loss is now 97.01237698253406\n",
      "sigmpod_grad =  [[0.]\n",
      " [0.]]\n",
      "dldw using analytical solution\n",
      "[[ 3.5583696e-09]\n",
      " [-1.3490780e-08]]\n",
      "w\n",
      "[[4.]\n",
      " [6.]]\n"
     ]
    }
   ],
   "source": [
    "lm = linear_model()\n",
    "lm.train(X,y,loss_measure = 'MSE', lr = 0.08,diff_type = 'Analytical')"
   ]
  },
  {
   "cell_type": "code",
   "execution_count": 78,
   "metadata": {},
   "outputs": [],
   "source": [
    "# well I again got the correct answer, I should get some time to think about this mistery?\n"
   ]
  },
  {
   "cell_type": "code",
   "execution_count": 112,
   "metadata": {},
   "outputs": [],
   "source": [
    "class linear_model:\n",
    "    def __init__(self):\n",
    "        pass\n",
    "    \n",
    "    \n",
    "    def sigmoid(self,z):\n",
    "        return 1/(1+np.exp(-z))\n",
    "\n",
    "    def sigmoid_grad(self,z):\n",
    "        return self.sigmoid(z) * (1-self.sigmoid(z))\n",
    "    \n",
    "    \n",
    "    def calc_loss(self,X,y,w1,w2 ,loss_measure = 'MSE'):\n",
    "        \n",
    "        \n",
    "        \"\"\"\n",
    "        Calculating the loss or the deviation of the results we got from the model compared with the real values. The first step is to calculate the X@w which represents the results we got from\n",
    "        the model. The second step is to evaulate the loss which can be done through a loss function that we define. for example here we define two ways to caculate the loss either using MAE, in\n",
    "        which we first calculate the absolute difference between each predicted and true value and then we calucalte the mean. or using the MSW, in which we calculate the abolute difference between\n",
    "        true and preidcted value, square it and then find the average. The loss we then be returned.\n",
    "        \n",
    "        \"\"\"    \n",
    "        losses = []\n",
    "        \n",
    "        # the first layer in the model, will take the inputs X, which has two units x1 and x2 and produce z1, z1 will have two units, z1_1, and z2_2\n",
    "        z1 = X@w1\n",
    "        print('z1')\n",
    "        print(z1)\n",
    "        # the output layer\n",
    "        y_predicted= z1@w2        \n",
    "        #y_predicted = self.sigmoid(z2)\n",
    "        print('y_predicted',y_predicted)\n",
    "        #print('grad', self.sigmoid(z) * (1-self.sigmoid(z)))\n",
    "        \n",
    "        \n",
    "        \n",
    "        \n",
    "        if loss_measure == 'MSE':\n",
    "            loss = (y - y_predicted)**2\n",
    "        elif loss_measure == 'MAE':\n",
    "            loss= abs(y - y_predicted)\n",
    "\n",
    "        #print('the true value = ',y)\n",
    "        #print('the predicted value = ',y_predicted)\n",
    "        losses.append(loss)\n",
    "        total_loss = np.mean(losses)\n",
    "        #print('the total loss =', total_loss )\n",
    "        return total_loss\n",
    "      \n",
    "\n",
    "    def diff(self,w,X,y,loss_measure,diff_type = 'Analytical'):\n",
    "        \"\"\"\n",
    "        given a function f(x) and a point w, calculate th f'(x)\n",
    "        \n",
    "        \"\"\"\n",
    "        dldw = np.ones([X.shape[1],1])\n",
    "        h = 0.005  \n",
    "        \n",
    "        if diff_type =='Numerical':\n",
    "            # calculate the derivitives dl/dw using limits\n",
    "            for i in range(len(w)):\n",
    "                print('i',i)\n",
    "                # f(w)\n",
    "                loss_w = self.calc_loss(X,y,w,loss_measure = loss_measure)\n",
    "                # we will choose the margin that we will accept as 0.5\n",
    "                # f(w+h)\n",
    "                w[i] = w[i] + h      \n",
    "                loss_w_plus_h = self.calc_loss(X,y,w,loss_measure = loss_measure)\n",
    "                # dldw = f(w+h) - f(w)/h\n",
    "                dldw[i] = (loss_w_plus_h- loss_w)/h\n",
    "                print('dldw using numerical solution')\n",
    "                print(dldw)\n",
    "        elif diff_type == 'Analytical':\n",
    "            # calculate the derivitves dl/dw using calculus\n",
    "            # l = (X.w - y)**2\n",
    "            # dl/dw = 2*(X.w - y)@X = 2*X@()\n",
    "            \n",
    "            z = X@w\n",
    "            \n",
    "            print('sigmpod_grad = ',self.sigmoid_grad(z))\n",
    "            \n",
    "            dldw = 2*X@(z - y)#*self.sigmoid_grad(z)\n",
    "            print('dldw using analytical solution')\n",
    "            print(dldw)\n",
    "        return dldw \n",
    "    \n",
    "    def train(self,X,y,loss_measure = 'MAE', lr = 0.07, diff_type = 'Analytical'):\n",
    "        \"\"\"\n",
    "        training of the model is done by evaluting loss and updating the weights\n",
    "        \"\"\"\n",
    "        # initilization\n",
    "        np.random.seed(50)\n",
    "        w1 = np.random.rand(X.shape[1],2)\n",
    "        w2 = np.random.rand(X.shape[1],1)\n",
    "        # intialization. I am changing this manually\n",
    "        #w[0] = \n",
    "        #w[1] = 3.5\n",
    "        #print('initial weights')\n",
    "        #print(w1)    \n",
    "        # updating the weight     \n",
    "        #lr =0.07\n",
    "        \n",
    "        for i in range(30):\n",
    "            print('step =',i)\n",
    "            \n",
    "            # forward pass is essentially the process of calculting the loss given the data and the weight, for the loss we need to calculate a predicted value\n",
    "            # calculate the loss at the current weights\n",
    "            loss_w = self.calc_loss(X,y,w1,w2)\n",
    "            print('loss is now',loss_w)\n",
    "            # stoping condition, note that we don't require the loss is to be exactly zero but close enough\n",
    "            if loss_w <= 0.08 :\n",
    "                self.w = w\n",
    "                print('final w = ',self.w)\n",
    "                return self.w\n",
    "            \n",
    "            # updating the weight. \n",
    "            elif loss_w > 0.08 :\n",
    "                # the backpropagation is essentially the calculation of the partially derivives using chain rules. since we have only one layer at this time we will just calculate the dldw\n",
    "                #First at that particular point we calculate dldw \n",
    "                \n",
    "                \n",
    "                # dldw1 = dl/dz*dz/dw1\n",
    "                #dl/dz =2(x@w-y), l = (z-y)**2\n",
    "                #dz/dw = X>>>>>>>>>>>>>why: becauaw z =X@w\n",
    "                dldw1 = 2*X@(X@w1-y)\n",
    "                \n",
    "                \n",
    "                z1 = X@w1 # this is the new x\n",
    "                \n",
    "                # the new w is w2\n",
    "                \n",
    "                \n",
    "                dldw2 =  2*z1@(z1@w2 - y)#self.diff(w1,X,y,loss_measure, diff_type)\n",
    "                               \n",
    "                               \n",
    "                # dl/dw1\n",
    "                print('dldw1')\n",
    "                print(dldw1)\n",
    "                print(w2)\n",
    "                dldw2 = self.diff(w2,X,y,loss_measure, diff_type)\n",
    "                # Now we update the weight\n",
    "                w1 = w1 -lr*dldw1\n",
    "                w2 = w2 -lr*dldw2\n",
    "                \n",
    "                print('w1')\n",
    "                print(w1)  \n",
    "                                \n",
    "                print('w2')\n",
    "                print(w2) \n",
    "                \n",
    "    def predict(self,X_new):\n",
    "        \"\"\"\n",
    "        Given a new data, the model will be using the weights stored in the self.w to produce a prediction\n",
    "        \"\"\"\n",
    "        predicted_y = X_new@self.w\n",
    "        \n",
    "        return predicted_y"
   ]
  },
  {
   "cell_type": "code",
   "execution_count": 113,
   "metadata": {},
   "outputs": [
    {
     "name": "stdout",
     "output_type": "stream",
     "text": [
      "step = 0\n",
      "z1\n",
      "[[1.24467721 0.85249612]\n",
      " [1.22833101 0.2879194 ]]\n",
      "y_predicted [[1.31921117]\n",
      " [0.75040089]]\n",
      "loss is now 94.18034808664889\n",
      "dldw1\n",
      "[[-60.56462911 -64.01417672]\n",
      " [-66.98859874 -67.4608621 ]]\n",
      "[[0.3773151 ]\n",
      " [0.99657423]]\n",
      "sigmpod_grad =  [[0.12602231]\n",
      " [0.24885816]]\n",
      "dldw using analytical solution\n",
      "[[-60.72444017]\n",
      " [-61.76351557]]\n",
      "w1\n",
      "[[5.33977197 5.34921724]\n",
      " [5.61456182 5.79319888]]\n",
      "w2\n",
      "[[5.23527031]\n",
      " [5.93765548]]\n",
      "step = 1\n",
      "z1\n",
      "[[16.29410577 16.49163336]\n",
      " [10.4047541  10.25445285]]\n",
      "y_predicted [[183.22568534]\n",
      " [115.35910835]]\n",
      "loss is now 20298.373578560095\n",
      "dldw1\n",
      "[[17.98593129 18.47543914]\n",
      " [ 4.95512643  6.44089447]]\n",
      "[[5.23527031]\n",
      " [5.93765548]]\n",
      "sigmpod_grad =  [[7.48188298e-08]\n",
      " [5.72392935e-05]]\n",
      "dldw using analytical solution\n",
      "[[17.16909531]\n",
      " [ 6.91286568]]\n",
      "w1\n",
      "[[3.90089747 3.87118211]\n",
      " [5.21815171 5.27792732]]\n",
      "w2\n",
      "[[3.86174269]\n",
      " [5.38462622]]\n",
      "step = 2\n",
      "z1\n",
      "[[13.01994665 13.02029154]\n",
      " [ 6.48454071  6.33561901]]\n",
      "y_predicted [[120.38908701]\n",
      " [ 59.15656791]]\n",
      "loss is now 7072.12927291932\n",
      "dldw1\n",
      "[[-2.95113198 -3.24759581]\n",
      " [-6.84940151 -6.54948878]]\n",
      "[[3.86174269]\n",
      " [5.38462622]]\n",
      "sigmpod_grad =  [[2.02869942e-06]\n",
      " [2.02000731e-03]]\n",
      "dldw using analytical solution\n",
      "[[-3.16634995]\n",
      " [-5.75253411]]\n",
      "w1\n",
      "[[4.13698803 4.13098978]\n",
      " [5.76610383 5.80188642]]\n",
      "w2\n",
      "[[4.11505068]\n",
      " [5.84482895]]\n",
      "step = 3\n",
      "z1\n",
      "[[14.04007989 14.06386597]\n",
      " [ 6.64486026  6.5910829 ]]\n",
      "y_predicted [[139.97653132]\n",
      " [ 65.86768893]]\n",
      "loss is now 9727.11331022467\n",
      "dldw1\n",
      "[[ 1.45004008  1.4376297 ]\n",
      " [-1.04924119 -0.79896997]]\n",
      "[[4.11505068]\n",
      " [5.84482895]]\n",
      "sigmpod_grad =  [[7.71497923e-07]\n",
      " [1.49844594e-03]]\n",
      "dldw using analytical solution\n",
      "[[ 1.30036745]\n",
      " [-0.5510643 ]]\n",
      "w1\n",
      "[[4.02098482 4.0159794 ]\n",
      " [5.85004312 5.86580402]]\n",
      "w2\n",
      "[[4.01102129]\n",
      " [5.88891409]]\n",
      "step = 4\n",
      "z1\n",
      "[[13.89201277 13.89776282]\n",
      " [ 6.21291135  6.18213418]]\n",
      "y_predicted [[137.56389028]\n",
      " [ 61.32617676]]\n",
      "loss is now 9164.510408112725\n",
      "dldw1\n",
      "[[-0.00612622 -0.04468037]\n",
      " [-1.07374607 -0.97769145]]\n",
      "[[4.01102129]\n",
      " [5.88891409]]\n",
      "sigmpod_grad =  [[9.08965693e-07]\n",
      " [2.13681866e-03]]\n",
      "dldw using analytical solution\n",
      "[[-0.06787381]\n",
      " [-0.82255953]]\n",
      "w1\n",
      "[[4.02147492 4.01955383]\n",
      " [5.93594281 5.94401934]]\n",
      "w2\n",
      "[[4.01645119]\n",
      " [5.95471886]]\n",
      "step = 5\n",
      "z1\n",
      "[[13.97889265 13.98312699]\n",
      " [ 6.12848195  6.11464215]]\n",
      "y_predicted [[139.41113002]\n",
      " [ 61.02572356]]\n",
      "loss is now 9377.890892944923\n",
      "dldw1\n",
      "[[ 0.17253452  0.16179228]\n",
      " [-0.383608   -0.33052234]]\n",
      "[[4.01645119]\n",
      " [5.95471886]]\n",
      "sigmpod_grad =  [[8.41884571e-07]\n",
      " [2.24479853e-03]]\n",
      "dldw using analytical solution\n",
      "[[ 0.13975438]\n",
      " [-0.263542  ]]\n",
      "w1\n",
      "[[4.00767216 4.00661045]\n",
      " [5.96663145 5.97046112]]\n",
      "w2\n",
      "[[4.00527084]\n",
      " [5.97580222]]\n",
      "step = 6\n",
      "z1\n",
      "[[13.98197577 13.98368202]\n",
      " [ 6.05638503  6.04937022]]\n",
      "y_predicted [[139.56531783]\n",
      " [ 60.40730232]]\n",
      "loss is now 9363.401793736395\n",
      "dldw1\n",
      "[[ 0.04067314  0.0334685 ]\n",
      " [-0.22091545 -0.19664834]]\n",
      "[[4.00527084]\n",
      " [5.97580222]]\n",
      "sigmpod_grad =  [[8.42960629e-07]\n",
      " [2.37023136e-03]]\n",
      "dldw using analytical solution\n",
      "[[ 0.02539619]\n",
      " [-0.16195722]]\n",
      "w1\n",
      "[[4.00441831 4.00393297]\n",
      " [5.98430468 5.98619299]]\n",
      "w2\n",
      "[[4.00323914]\n",
      " [5.98875879]]\n",
      "step = 7\n",
      "z1\n",
      "[[13.9931413  13.99405892]\n",
      " [ 6.02895024  6.02560591]]\n",
      "y_predicted [[139.82493447]\n",
      " [ 60.22123   ]]\n",
      "loss is now 9385.92795849064\n",
      "dldw1\n",
      "[[ 0.0304657   0.02744751]\n",
      " [-0.09905267 -0.08685828]]\n",
      "[[4.00323914]\n",
      " [5.98875879]]\n",
      "sigmpod_grad =  [[8.35497271e-07]\n",
      " [2.41560033e-03]]\n",
      "dldw using analytical solution\n",
      "[[ 0.02286561]\n",
      " [-0.07049477]]\n",
      "w1\n",
      "[[4.00198105 4.00173717]\n",
      " [5.9922289  5.99314165]]\n",
      "w2\n",
      "[[4.0014099 ]\n",
      " [5.99439838]]\n",
      "step = 8\n",
      "z1\n",
      "[[13.996191   13.99661598]\n",
      " [ 6.01371426  6.01206984]]\n",
      "y_predicted [[139.90578932]\n",
      " [ 60.10207747]]\n",
      "loss is now 9389.651285490036\n",
      "dldw1\n",
      "[[ 0.01219254  0.01060362]\n",
      " [-0.05028249 -0.04444379]]\n",
      "[[4.0014099 ]\n",
      " [5.99439838]]\n",
      "sigmpod_grad =  [[8.33843722e-07]\n",
      " [2.44249725e-03]]\n",
      "dldw using analytical solution\n",
      "[[ 0.00853529]\n",
      " [-0.03635361]]\n",
      "w1\n",
      "[[4.00100565 4.00088888]\n",
      " [5.9962515  5.99669716]]\n",
      "w2\n",
      "[[4.00072707]\n",
      " [5.99730667]]\n",
      "step = 9\n",
      "z1\n",
      "[[13.9982628  13.99847491]\n",
      " [ 6.00676545  6.00596947]]\n",
      "y_predicted [[139.95637581]\n",
      " [ 60.05106991]]\n",
      "loss is now 9393.263382570034\n",
      "dldw1\n",
      "[[ 0.00658209  0.00583857]\n",
      " [-0.02395412 -0.0210895 ]]\n",
      "[[4.00072707]\n",
      " [5.99730667]]\n",
      "sigmpod_grad =  [[8.32558393e-07]\n",
      " [2.45457445e-03]]\n",
      "dldw using analytical solution\n",
      "[[ 0.00479234]\n",
      " [-0.01718424]]\n",
      "w1\n",
      "[[4.00047908 4.00042179]\n",
      " [5.99816783 5.99838432]]\n",
      "w2\n",
      "[[4.00034368]\n",
      " [5.99868141]]\n",
      "step = 10\n",
      "z1\n",
      "[[13.99912599 13.9992279 ]\n",
      " [ 6.00326942  6.00288105]]\n",
      "y_predicted [[139.97822332]\n",
      " [ 60.02451187]]\n",
      "loss is now 9394.580316503132\n",
      "dldw1\n",
      "[[ 0.00304281  0.00267369]\n",
      " [-0.01178289 -0.01039474]]\n",
      "[[4.00034368]\n",
      " [5.99868141]]\n",
      "sigmpod_grad =  [[8.32052382e-07]\n",
      " [2.46074922e-03]]\n",
      "dldw using analytical solution\n",
      "[[ 0.0021744 ]\n",
      " [-0.00848665]]\n",
      "w1\n",
      "[[4.00023566 4.00020789]\n",
      " [5.99911046 5.99921589]]\n",
      "w2\n",
      "[[4.00016973]\n",
      " [5.99936034]]\n",
      "step = 11\n",
      "z1\n",
      "[[13.99958177 13.99963168]\n",
      " [ 6.00159651  6.00140779]]\n",
      "y_predicted [[139.98953834]\n",
      " [ 60.01201259]]\n",
      "loss is now 9395.330638079166\n",
      "dldw1\n",
      "[[ 0.00152013  0.00134231]\n",
      " [-0.00570239 -0.00502548]]\n",
      "[[4.00016973]\n",
      " [5.99936034]]\n",
      "sigmpod_grad =  [[8.31776995e-07]\n",
      " [2.46369123e-03]]\n",
      "dldw using analytical solution\n",
      "[[ 0.00109694]\n",
      " [-0.00409891]]\n",
      "w1\n",
      "[[4.00011405 4.00010051]\n",
      " [5.99956665 5.99961793]]\n",
      "w2\n",
      "[[4.00008198]\n",
      " [5.99968825]]\n",
      "step = 12\n",
      "z1\n",
      "[[13.99979474 13.99981895]\n",
      " [ 6.00077549  6.0006836 ]]\n",
      "y_predicted [[139.99487591]\n",
      " [ 60.00582477]]\n",
      "loss is now 9395.668932839788\n",
      "dldw1\n",
      "[[ 0.00072997  0.000643  ]\n",
      " [-0.00278252 -0.00245348]]\n",
      "[[4.00008198]\n",
      " [5.99968825]]\n",
      "sigmpod_grad =  [[8.31650240e-07]\n",
      " [2.46514094e-03]]\n",
      "dldw using analytical solution\n",
      "[[ 0.00052419]\n",
      " [-0.00200214]]\n",
      "w1\n",
      "[[4.00005565 4.00004907]\n",
      " [5.99978925 5.99981421]]\n",
      "w2\n",
      "[[4.00004004]\n",
      " [5.99984842]]\n",
      "step = 13\n",
      "z1\n",
      "[[13.99990055 13.99991235]\n",
      " [ 6.0003777   6.000333  ]]\n",
      "y_predicted [[139.9975148 ]\n",
      " [ 60.00283953]]\n",
      "loss is now 9395.840206717363\n",
      "dldw1\n",
      "[[ 0.00035761  0.0003154 ]\n",
      " [-0.00135209 -0.00119189]]\n",
      "[[4.00004004]\n",
      " [5.99984842]]\n",
      "sigmpod_grad =  [[8.31586788e-07]\n",
      " [2.46584253e-03]]\n",
      "dldw using analytical solution\n",
      "[[ 0.00025744]\n",
      " [-0.00097238]]\n",
      "w1\n",
      "[[4.00002704 4.00002384]\n",
      " [5.99989742 5.99990956]]\n",
      "w2\n",
      "[[4.00001945]\n",
      " [5.99992621]]\n",
      "step = 14\n",
      "z1\n",
      "[[13.9999515  13.99995724]\n",
      " [ 6.00018371  6.00016195]]\n",
      "y_predicted [[139.99878866]\n",
      " [ 60.00138048]]\n",
      "loss is now 9395.921918292906\n",
      "dldw1\n",
      "[[ 0.00017342  0.00015286]\n",
      " [-0.0006584  -0.00058047]]\n",
      "[[4.00001945]\n",
      " [5.99992621]]\n",
      "sigmpod_grad =  [[8.31556352e-07]\n",
      " [2.46618502e-03]]\n",
      "dldw using analytical solution\n",
      "[[ 0.00012469]\n",
      " [-0.00047363]]\n",
      "w1\n",
      "[[4.00001317 4.00001161]\n",
      " [5.99995009 5.999956  ]]\n",
      "w2\n",
      "[[4.00000947]\n",
      " [5.9999641 ]]\n",
      "step = 15\n",
      "z1\n",
      "[[13.99997643 13.99997922]\n",
      " [ 6.00008941  6.00007883]]\n",
      "y_predicted [[139.99941105]\n",
      " [ 60.00067206]]\n",
      "loss is now 9395.962084425395\n",
      "dldw1\n",
      "[[ 8.45340660e-05  7.45329365e-05]\n",
      " [-3.20267949e-04 -2.82340508e-04]]\n",
      "[[4.00000947]\n",
      " [5.9999641 ]]\n",
      "sigmpod_grad =  [[8.31541434e-07]\n",
      " [2.46635144e-03]]\n",
      "dldw using analytical solution\n",
      "[[ 6.08178308e-05]\n",
      " [-2.30356379e-04]]\n",
      "w1\n",
      "[[4.00000641 4.00000565]\n",
      " [5.99997571 5.99997859]]\n",
      "w2\n",
      "[[4.00000461]\n",
      " [5.99998253]]\n",
      "step = 16\n",
      "z1\n",
      "[[13.99998852 13.99998988]\n",
      " [ 6.0000435   6.00003835]]\n",
      "y_predicted [[139.99971329]\n",
      " [ 60.00032695]]\n",
      "loss is now 9395.981530274572\n",
      "dldw1\n",
      "[[ 4.10987839e-05  3.62305289e-05]\n",
      " [-1.55872813e-04 -1.37418392e-04]]\n",
      "[[4.00000461]\n",
      " [5.99998253]]\n",
      "sigmpod_grad =  [[8.31534201e-07]\n",
      " [2.46643249e-03]]\n",
      "dldw using analytical solution\n",
      "[[ 2.95588810e-05]\n",
      " [-1.12120855e-04]]\n",
      "w1\n",
      "[[4.00000312 4.00000275]\n",
      " [5.99998818 5.99998958]]\n",
      "w2\n",
      "[[4.00000224]\n",
      " [5.9999915 ]]\n",
      "step = 17\n",
      "z1\n",
      "[[13.99999442 13.99999508]\n",
      " [ 6.00002117  6.00001866]]\n",
      "y_predicted [[139.99986052]\n",
      " [ 60.00015912]]\n",
      "loss is now 9395.991017353705\n",
      "dldw1\n",
      "[[ 2.00077961e-05  1.76392793e-05]\n",
      " [-7.58416290e-05 -6.68612751e-05]]\n",
      "[[4.00000224]\n",
      " [5.9999915 ]]\n",
      "sigmpod_grad =  [[8.31530676e-07]\n",
      " [2.46647192e-03]]\n",
      "dldw using analytical solution\n",
      "[[ 1.43922711e-05]\n",
      " [-5.45517708e-05]]\n",
      "w1\n",
      "[[4.00000152 4.00000134]\n",
      " [5.99999425 5.99999493]]\n",
      "w2\n",
      "[[4.00000109]\n",
      " [5.99999586]]\n",
      "step = 18\n",
      "z1\n",
      "[[13.99999728 13.9999976 ]\n",
      " [ 6.0000103   6.00000908]]\n",
      "y_predicted [[139.99993212]\n",
      " [ 60.00007742]]\n",
      "loss is now 9395.9956277876\n",
      "dldw1\n",
      "[[ 9.73372512e-06  8.58109051e-06]\n",
      " [-3.69067286e-05 -3.25369131e-05]]\n",
      "[[4.00000109]\n",
      " [5.99999586]]\n",
      "sigmpod_grad =  [[8.31528961e-07]\n",
      " [2.46649111e-03]]\n",
      "dldw using analytical solution\n",
      "[[ 7.00121079e-06]\n",
      " [-2.65469276e-05]]\n",
      "w1\n",
      "[[4.00000074 4.00000065]\n",
      " [5.9999972  5.99999753]]\n",
      "w2\n",
      "[[4.00000053]\n",
      " [5.99999799]]\n",
      "step = 19\n",
      "z1\n",
      "[[13.99999868 13.99999883]\n",
      " [ 6.00000501  6.00000442]]\n",
      "y_predicted [[139.99996697]\n",
      " [ 60.00003768]]\n",
      "loss is now 9395.997872749045\n",
      "dldw1\n",
      "[[ 4.73702956e-06  4.17617524e-06]\n",
      " [-1.79586103e-05 -1.58322122e-05]]\n",
      "[[4.00000053]\n",
      " [5.99999799]]\n",
      "sigmpod_grad =  [[8.31528127e-07]\n",
      " [2.46650044e-03]]\n",
      "dldw using analytical solution\n",
      "[[ 3.40736313e-06]\n",
      " [-1.29174751e-05]]\n",
      "w1\n",
      "[[4.00000036 4.00000032]\n",
      " [5.99999864 5.9999988 ]]\n",
      "w2\n",
      "[[4.00000026]\n",
      " [5.99999902]]\n",
      "step = 20\n",
      "z1\n",
      "[[13.99999936 13.99999943]\n",
      " [ 6.00000244  6.00000215]]\n",
      "y_predicted [[139.99998393]\n",
      " [ 60.00001833]]\n",
      "loss is now 9395.998964793704\n",
      "dldw1\n",
      "[[ 2.30493410e-06  2.03201292e-06]\n",
      " [-8.73887392e-06 -7.70416049e-06]]\n",
      "[[4.00000026]\n",
      " [5.99999902]]\n",
      "sigmpod_grad =  [[8.31527721e-07]\n",
      " [2.46650499e-03]]\n",
      "dldw using analytical solution\n",
      "[[ 1.65791244e-06]\n",
      " [-6.28582536e-06]]\n",
      "w1\n",
      "[[4.00000017 4.00000015]\n",
      " [5.99999934 5.99999942]]\n",
      "w2\n",
      "[[4.00000013]\n",
      " [5.99999952]]\n",
      "step = 21\n",
      "z1\n",
      "[[13.99999969 13.99999972]\n",
      " [ 6.00000119  6.00000105]]\n",
      "y_predicted [[139.99999218]\n",
      " [ 60.00000892]]\n",
      "loss is now 9395.999496280243\n",
      "dldw1\n",
      "[[ 1.12162773e-06  9.88824134e-07]\n",
      " [-4.25236298e-06 -3.74886397e-06]]\n",
      "[[4.00000013]\n",
      " [5.99999952]]\n",
      "sigmpod_grad =  [[8.31527524e-07]\n",
      " [2.46650720e-03]]\n",
      "dldw using analytical solution\n",
      "[[ 8.06782570e-07]\n",
      " [-3.05869509e-06]]\n",
      "w1\n",
      "[[4.00000009 4.00000007]\n",
      " [5.99999968 5.99999972]]\n",
      "w2\n",
      "[[4.00000006]\n",
      " [5.99999977]]\n",
      "step = 22\n",
      "z1\n",
      "[[13.99999985 13.99999987]\n",
      " [ 6.00000058  6.00000051]]\n",
      "y_predicted [[139.99999619]\n",
      " [ 60.00000434]]\n",
      "loss is now 9395.99975488247\n",
      "dldw1\n",
      "[[ 5.45782754e-07  4.81159340e-07]\n",
      " [-2.06923198e-06 -1.82422662e-06]]\n",
      "[[4.00000006]\n",
      " [5.99999977]]\n",
      "sigmpod_grad =  [[8.31527427e-07]\n",
      " [2.46650827e-03]]\n",
      "dldw using analytical solution\n",
      "[[ 3.92577302e-07]\n",
      " [-1.48838587e-06]]\n",
      "w1\n",
      "[[4.00000004 4.00000004]\n",
      " [5.99999984 5.99999986]]\n",
      "w2\n",
      "[[4.00000003]\n",
      " [5.99999989]]\n",
      "step = 23\n",
      "z1\n",
      "[[13.99999993 13.99999993]\n",
      " [ 6.00000028  6.00000025]]\n",
      "y_predicted [[139.99999815]\n",
      " [ 60.00000211]]\n",
      "loss is now 9395.999880725416\n",
      "dldw1\n",
      "[[ 2.65583184e-07  2.34137143e-07]\n",
      " [-1.00689924e-06 -8.87678063e-07]]\n",
      "[[4.00000003]\n",
      " [5.99999989]]\n",
      "sigmpod_grad =  [[8.31527381e-07]\n",
      " [2.46650880e-03]]\n",
      "dldw using analytical solution\n",
      "[[ 1.91032457e-07]\n",
      " [-7.24256020e-07]]\n",
      "w1\n",
      "[[4.00000002 4.00000002]\n",
      " [5.99999992 5.99999993]]\n",
      "w2\n",
      "[[4.00000001]\n",
      " [5.99999995]]\n",
      "step = 24\n",
      "z1\n",
      "[[13.99999996 13.99999997]\n",
      " [ 6.00000014  6.00000012]]\n",
      "y_predicted [[139.9999991 ]\n",
      " [ 60.00000103]]\n",
      "loss is now 9395.999941959995\n",
      "dldw1\n",
      "[[ 1.29233893e-07  1.13932035e-07]\n",
      " [-4.89963650e-07 -4.31949932e-07]]\n",
      "[[4.00000001]\n",
      " [5.99999995]]\n",
      "sigmpod_grad =  [[8.31527358e-07]\n",
      " [2.46650905e-03]]\n",
      "dldw using analytical solution\n",
      "[[ 9.29570732e-08]\n",
      " [-3.52427740e-07]]\n",
      "w1\n",
      "[[4.00000001 4.00000001]\n",
      " [5.99999996 5.99999997]]\n",
      "w2\n",
      "[[4.00000001]\n",
      " [5.99999997]]\n",
      "step = 25\n",
      "z1\n",
      "[[13.99999998 13.99999998]\n",
      " [ 6.00000007  6.00000006]]\n",
      "y_predicted [[139.99999956]\n",
      " [ 60.0000005 ]]\n",
      "loss is now 9395.99997175745\n",
      "dldw1\n",
      "[[ 6.28861230e-08  5.54401449e-08]\n",
      " [-2.38419187e-07 -2.10189354e-07]]\n",
      "[[4.00000001]\n",
      " [5.99999997]]\n",
      "sigmpod_grad =  [[8.31527347e-07]\n",
      " [2.46650917e-03]]\n",
      "dldw using analytical solution\n",
      "[[ 4.52335893e-08]\n",
      " [-1.71493374e-07]]\n",
      "w1\n",
      "[[4.         4.        ]\n",
      " [5.99999998 5.99999998]]\n",
      "w2\n",
      "[[4.        ]\n",
      " [5.99999999]]\n",
      "step = 26\n",
      "z1\n",
      "[[13.99999999 13.99999999]\n",
      " [ 6.00000003  6.00000003]]\n",
      "y_predicted [[139.99999979]\n",
      " [ 60.00000024]]\n",
      "loss is now 9395.999986256984\n",
      "dldw1\n",
      "[[ 3.06007326e-08  2.69774905e-08]\n",
      " [-1.16016247e-07 -1.02279424e-07]]\n",
      "[[4.        ]\n",
      " [5.99999999]]\n",
      "sigmpod_grad =  [[8.31527341e-07]\n",
      " [2.46650923e-03]]\n",
      "dldw using analytical solution\n",
      "[[ 2.20108962e-08]\n",
      " [-8.34497502e-08]]\n",
      "w1\n",
      "[[4.         4.        ]\n",
      " [5.99999999 5.99999999]]\n",
      "w2\n",
      "[[4.        ]\n",
      " [5.99999999]]\n",
      "step = 27\n",
      "z1\n",
      "[[14.         14.        ]\n",
      " [ 6.00000002  6.00000001]]\n",
      "y_predicted [[139.9999999 ]\n",
      " [ 60.00000012]]\n",
      "loss is now 9395.999993312575\n",
      "dldw1\n",
      "[[ 1.48905173e-08  1.31274138e-08]\n",
      " [-5.64541942e-08 -4.97697830e-08]]\n",
      "[[4.        ]\n",
      " [5.99999999]]\n",
      "sigmpod_grad =  [[8.31527339e-07]\n",
      " [2.46650926e-03]]\n",
      "dldw using analytical solution\n",
      "[[ 1.07106608e-08]\n",
      " [-4.06071372e-08]]\n",
      "w1\n",
      "[[4. 4.]\n",
      " [6. 6.]]\n",
      "w2\n",
      "[[4.]\n",
      " [6.]]\n",
      "step = 28\n",
      "z1\n",
      "[[14.         14.        ]\n",
      " [ 6.00000001  6.00000001]]\n",
      "y_predicted [[139.99999995]\n",
      " [ 60.00000006]]\n",
      "loss is now 9395.999996745855\n",
      "dldw1\n",
      "[[ 7.24580218e-09  6.38788045e-09]\n",
      " [-2.74709571e-08 -2.42182754e-08]]\n",
      "[[4.]\n",
      " [6.]]\n",
      "sigmpod_grad =  [[8.31527337e-07]\n",
      " [2.46650928e-03]]\n",
      "dldw using analytical solution\n",
      "[[ 5.21185584e-09]\n",
      " [-1.97596854e-08]]\n",
      "w1\n",
      "[[4. 4.]\n",
      " [6. 6.]]\n",
      "w2\n",
      "[[4.]\n",
      " [6.]]\n",
      "step = 29\n",
      "z1\n",
      "[[14. 14.]\n",
      " [ 6.  6.]]\n",
      "y_predicted [[139.99999998]\n",
      " [ 60.00000003]]\n",
      "loss is now 9395.999998416513\n",
      "dldw1\n",
      "[[ 3.52585516e-09  3.10837045e-09]\n",
      " [-1.33675293e-08 -1.17847723e-08]]\n",
      "[[4.]\n",
      " [6.]]\n",
      "sigmpod_grad =  [[8.31527337e-07]\n",
      " [2.46650928e-03]]\n",
      "dldw using analytical solution\n",
      "[[ 2.53613308e-09]\n",
      " [-9.61518154e-09]]\n",
      "w1\n",
      "[[4. 4.]\n",
      " [6. 6.]]\n",
      "w2\n",
      "[[4.]\n",
      " [6.]]\n"
     ]
    }
   ],
   "source": [
    "lm = linear_model()\n",
    "lm.train(X,y,loss_measure = 'MSE', lr = 0.08,diff_type = 'Analytical')"
   ]
  },
  {
   "cell_type": "code",
   "execution_count": 111,
   "metadata": {},
   "outputs": [],
   "source": [
    "# it is amazing to see that it is working"
   ]
  }
 ],
 "metadata": {
  "kernelspec": {
   "display_name": "Python 3",
   "language": "python",
   "name": "python3"
  },
  "language_info": {
   "codemirror_mode": {
    "name": "ipython",
    "version": 3
   },
   "file_extension": ".py",
   "mimetype": "text/x-python",
   "name": "python",
   "nbconvert_exporter": "python",
   "pygments_lexer": "ipython3",
   "version": "3.8.3"
  }
 },
 "nbformat": 4,
 "nbformat_minor": 4
}
